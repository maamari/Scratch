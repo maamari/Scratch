{
 "cells": [
  {
   "cell_type": "code",
   "execution_count": 1,
   "metadata": {
    "slideshow": {
     "slide_type": "skip"
    }
   },
   "outputs": [
    {
     "data": {
      "text/plain": [
       "{'width': 1400, 'height': 768, 'scroll': True}"
      ]
     },
     "execution_count": 1,
     "metadata": {},
     "output_type": "execute_result"
    }
   ],
   "source": [
    "from notebook.services.config import ConfigManager\n",
    "cm = ConfigManager()\n",
    "cm.update('livereveal', {'width':1400,'scroll': True})"
   ]
  },
  {
   "cell_type": "markdown",
   "metadata": {
    "slideshow": {
     "slide_type": "slide"
    }
   },
   "source": [
    "# Sections 3.5 to 6.9"
   ]
  },
  {
   "cell_type": "markdown",
   "metadata": {
    "slideshow": {
     "slide_type": "slide"
    }
   },
   "source": [
    "### Preprocessor directives"
   ]
  },
  {
   "cell_type": "markdown",
   "metadata": {
    "slideshow": {
     "slide_type": "fragment"
    }
   },
   "source": [
    "Macros:"
   ]
  },
  {
   "cell_type": "raw",
   "metadata": {
    "slideshow": {
     "slide_type": "fragment"
    }
   },
   "source": [
    "#define MULT(x, y) x * y\n",
    "\n",
    "MULT(3,4) -> 12"
   ]
  },
  {
   "cell_type": "markdown",
   "metadata": {
    "slideshow": {
     "slide_type": "fragment"
    }
   },
   "source": [
    "Use inline functions instead"
   ]
  },
  {
   "cell_type": "raw",
   "metadata": {
    "slideshow": {
     "slide_type": "fragment"
    }
   },
   "source": [
    "inline int mult(int x, int y) \n",
    "{\n",
    "    return x*y; \n",
    "} \n",
    "\n",
    "mult(3,4) -> 12"
   ]
  },
  {
   "cell_type": "markdown",
   "metadata": {
    "slideshow": {
     "slide_type": "fragment"
    }
   },
   "source": [
    "Identifiers should be all uppercase, underscores separating words (e.g. BUFFER_SIZE)"
   ]
  },
  {
   "cell_type": "raw",
   "metadata": {
    "slideshow": {
     "slide_type": "fragment"
    }
   },
   "source": [
    "#directive INDENTIFIER"
   ]
  },
  {
   "cell_type": "markdown",
   "metadata": {
    "slideshow": {
     "slide_type": "fragment"
    }
   },
   "source": [
    "Conditional compilation directive:"
   ]
  },
  {
   "cell_type": "raw",
   "metadata": {
    "slideshow": {
     "slide_type": "fragment"
    }
   },
   "source": [
    "#if defined(TEST_BLOCK)\n",
    "    int x = 2;\n",
    "#else\n",
    "    int x = 3;\n",
    "#endif"
   ]
  },
  {
   "cell_type": "markdown",
   "metadata": {
    "slideshow": {
     "slide_type": "fragment"
    }
   },
   "source": [
    "When using conditional compilation directives, use:"
   ]
  },
  {
   "cell_type": "raw",
   "metadata": {
    "slideshow": {
     "slide_type": "fragment"
    }
   },
   "source": [
    "#if defined(identifier) \n",
    "#if !defined(identifier) "
   ]
  },
  {
   "cell_type": "markdown",
   "metadata": {
    "slideshow": {
     "slide_type": "fragment"
    }
   },
   "source": [
    "and not"
   ]
  },
  {
   "cell_type": "raw",
   "metadata": {
    "slideshow": {
     "slide_type": "fragment"
    }
   },
   "source": [
    "#ifdef identifier\n",
    "#ifndef identifier"
   ]
  },
  {
   "cell_type": "markdown",
   "metadata": {
    "slideshow": {
     "slide_type": "fragment"
    }
   },
   "source": [
    "Do not define identifiers in source code, rather via a compiler option. For example:"
   ]
  },
  {
   "cell_type": "raw",
   "metadata": {
    "slideshow": {
     "slide_type": "fragment"
    }
   },
   "source": [
    "gcc -D TEST_BLOCK file.c -o file"
   ]
  },
  {
   "cell_type": "markdown",
   "metadata": {
    "slideshow": {
     "slide_type": "slide"
    }
   },
   "source": [
    "### Structures"
   ]
  },
  {
   "cell_type": "markdown",
   "metadata": {
    "slideshow": {
     "slide_type": "fragment"
    }
   },
   "source": [
    "Structures can only hold: <br>\n",
    "1. Data\n",
    "2. Constructors\n",
    "3. Initializations (?)\n",
    "4. displayToStream (?)\n",
    "5. Input stream functions (?)"
   ]
  },
  {
   "cell_type": "raw",
   "metadata": {
    "slideshow": {
     "slide_type": "fragment"
    }
   },
   "source": [
    "struct exampleStruct{\n",
    "    int member1;\n",
    "    \n",
    "    exampleStruct(int val)\n",
    "    {\n",
    "      member1 = val;\n",
    "    }\n",
    "};"
   ]
  },
  {
   "cell_type": "markdown",
   "metadata": {
    "slideshow": {
     "slide_type": "fragment"
    }
   },
   "source": [
    "Structures should not be used w/ member functions -- instead use a class (?)"
   ]
  },
  {
   "cell_type": "markdown",
   "metadata": {
    "slideshow": {
     "slide_type": "slide"
    }
   },
   "source": [
    "### Spacing"
   ]
  },
  {
   "cell_type": "markdown",
   "metadata": {
    "slideshow": {
     "slide_type": "fragment"
    }
   },
   "source": [
    "The standard indentitation is _two_ spaces (do not use tabs)"
   ]
  },
  {
   "cell_type": "markdown",
   "metadata": {
    "slideshow": {
     "slide_type": "fragment"
    }
   },
   "source": [
    "Use one blank line between:\n",
    "1. Function definitions\n",
    "2. Logically related blocks of code\n",
    "    1. Groups of declarations (constructors, destructors, operators, etc.)\n",
    "    2. Groups of related variables\n",
    "    3. Groups of related objects/functions\n",
    "    "
   ]
  },
  {
   "cell_type": "raw",
   "metadata": {
    "slideshow": {
     "slide_type": "fragment"
    }
   },
   "source": [
    "double func1(int arg1)\n",
    "{\n",
    "  ...\n",
    "}\n",
    "\n",
    "int func2(double arg2)\n",
    "{\n",
    "  ...\n",
    "}\n",
    "\n",
    "int main()\n",
    "{\n",
    "  int var1 = 12;\n",
    "  double var2 = 9.2;\n",
    "  int var3 = 22;\n",
    "  \n",
    "  bool flag1 = False;\n",
    "  bool flga2 = False\n",
    "  \n",
    "  ...\n",
    "}"
   ]
  },
  {
   "cell_type": "markdown",
   "metadata": {
    "slideshow": {
     "slide_type": "slide"
    }
   },
   "source": [
    "### Emacs"
   ]
  },
  {
   "cell_type": "markdown",
   "metadata": {
    "slideshow": {
     "slide_type": "fragment"
    }
   },
   "source": [
    "We can use Emacs to format our code in the LaSRS++ style (see 3.6.4 for instructions)"
   ]
  },
  {
   "cell_type": "markdown",
   "metadata": {
    "slideshow": {
     "slide_type": "slide"
    }
   },
   "source": [
    "### Functions"
   ]
  },
  {
   "cell_type": "markdown",
   "metadata": {
    "slideshow": {
     "slide_type": "fragment"
    }
   },
   "source": [
    "Function conventions:"
   ]
  },
  {
   "cell_type": "markdown",
   "metadata": {
    "slideshow": {
     "slide_type": "fragment"
    }
   },
   "source": [
    "1. Always provide a return type explicitly"
   ]
  },
  {
   "cell_type": "raw",
   "metadata": {
    "slideshow": {
     "slide_type": "fragment"
    }
   },
   "source": [
    "int FakeClass::func(...);"
   ]
  },
  {
   "cell_type": "markdown",
   "metadata": {
    "slideshow": {
     "slide_type": "fragment"
    }
   },
   "source": [
    "2. Always put the left parenthesis directly after function name"
   ]
  },
  {
   "cell_type": "raw",
   "metadata": {
    "slideshow": {
     "slide_type": "fragment"
    }
   },
   "source": [
    "int FakeClass::func(...);"
   ]
  },
  {
   "cell_type": "markdown",
   "metadata": {
    "slideshow": {
     "slide_type": "fragment"
    }
   },
   "source": [
    "3. Always place the first argument on the first line\n",
    "    1. If space permits, place all arguments on same line; otherwise, place each additional argument on new line with closing parenthesis directly after last argument"
   ]
  },
  {
   "cell_type": "raw",
   "metadata": {
    "slideshow": {
     "slide_type": "fragment"
    }
   },
   "source": [
    "int FakeClass::func(int arg1,\n",
    "                    double arg2,\n",
    "                    bool arg3);"
   ]
  },
  {
   "cell_type": "markdown",
   "metadata": {
    "slideshow": {
     "slide_type": "fragment"
    }
   },
   "source": [
    "4. Line up argument types and names in separate columns"
   ]
  },
  {
   "cell_type": "raw",
   "metadata": {
    "slideshow": {
     "slide_type": "fragment"
    }
   },
   "source": [
    "int FakeClass::func(int    arg1,\n",
    "                    double arg2,\n",
    "                    bool   arg3);"
   ]
  },
  {
   "cell_type": "markdown",
   "metadata": {
    "slideshow": {
     "slide_type": "fragment"
    }
   },
   "source": [
    "5. If this causes a line to pass column 80:\n",
    "    1. Place the inline keyword, function type, class scope qualifier on the preceding line\n",
    "    2. Do not align argument names\n",
    "    3. Start arguments on the line following the opening parenthesis\n",
    "   "
   ]
  },
  {
   "cell_type": "raw",
   "metadata": {
    "slideshow": {
     "slide_type": "fragment"
    }
   },
   "source": [
    "int FakeClass::\n",
    "func(\n",
    "  const double& absurdly_long_argument_name,\n",
    "  double arg2,\n",
    "  bool arg3*);"
   ]
  },
  {
   "cell_type": "markdown",
   "metadata": {
    "slideshow": {
     "slide_type": "fragment"
    }
   },
   "source": [
    "6. Functions with no arguments should have an empty argument list"
   ]
  },
  {
   "cell_type": "raw",
   "metadata": {
    "slideshow": {
     "slide_type": "fragment"
    }
   },
   "source": [
    "int FakeClass::func();"
   ]
  },
  {
   "cell_type": "markdown",
   "metadata": {
    "slideshow": {
     "slide_type": "fragment"
    }
   },
   "source": [
    "7. The names of formal arguments should be the same both in the function declaration and in the function definition. Argument names shall be omitted in function definitions when the name are not used inside the definition"
   ]
  },
  {
   "cell_type": "raw",
   "metadata": {
    "slideshow": {
     "slide_type": "fragment"
    }
   },
   "source": [
    "double func(int arg1);\n",
    "\n",
    "double func(int arg1)\n",
    "{\n",
    "  ...\n",
    "}"
   ]
  },
  {
   "cell_type": "markdown",
   "metadata": {
    "slideshow": {
     "slide_type": "fragment"
    }
   },
   "source": [
    "8. When declaring/defining operators, don't put any whitespace between the operator keyword and the operator symbol"
   ]
  },
  {
   "cell_type": "raw",
   "metadata": {
    "slideshow": {
     "slide_type": "fragment"
    }
   },
   "source": [
    "void operator ++(int) \n",
    "{\n",
    "  value+=100;\n",
    "}"
   ]
  },
  {
   "cell_type": "markdown",
   "metadata": {
    "slideshow": {
     "slide_type": "slide"
    }
   },
   "source": [
    "### Expressions"
   ]
  },
  {
   "cell_type": "markdown",
   "metadata": {
    "slideshow": {
     "slide_type": "fragment"
    }
   },
   "source": [
    "1. Use paranthesis to clarify the order of evaluation for operators"
   ]
  },
  {
   "cell_type": "raw",
   "metadata": {
    "slideshow": {
     "slide_type": "fragment"
    }
   },
   "source": [
    "int main()\n",
    "{\n",
    "  return (2*(3+4));\n",
    "}"
   ]
  },
  {
   "cell_type": "markdown",
   "metadata": {
    "slideshow": {
     "slide_type": "fragment"
    }
   },
   "source": [
    "2. Do not use spaces around access or dereference operators"
   ]
  },
  {
   "cell_type": "raw",
   "metadata": {
    "slideshow": {
     "slide_type": "fragment"
    }
   },
   "source": [
    "obj.val = 1.0;\n",
    "obj->val = 1.0;"
   ]
  },
  {
   "cell_type": "markdown",
   "metadata": {
    "slideshow": {
     "slide_type": "fragment"
    }
   },
   "source": [
    "3. Do not use spaces between unary operators/operands"
   ]
  },
  {
   "cell_type": "raw",
   "metadata": {
    "slideshow": {
     "slide_type": "fragment"
    }
   },
   "source": [
    "if (!debug)\n",
    "{\n",
    "  ...\n",
    "}"
   ]
  },
  {
   "cell_type": "markdown",
   "metadata": {
    "slideshow": {
     "slide_type": "fragment"
    }
   },
   "source": [
    "4. Use single spaces between binary operators/operands"
   ]
  },
  {
   "cell_type": "raw",
   "metadata": {
    "slideshow": {
     "slide_type": "fragment"
    }
   },
   "source": [
    "if (error && debug)\n",
    "{\n",
    "  ...\n",
    "}"
   ]
  },
  {
   "cell_type": "markdown",
   "metadata": {
    "slideshow": {
     "slide_type": "fragment"
    }
   },
   "source": [
    "5. Line up types, names, equal signs, and initial values into columns"
   ]
  },
  {
   "cell_type": "markdown",
   "metadata": {
    "slideshow": {
     "slide_type": "fragment"
    }
   },
   "source": [
    "int    var1          = 4;\n",
    "double var2          = 2.2;\n",
    "float  long_var_name = 3.1415;"
   ]
  },
  {
   "cell_type": "markdown",
   "metadata": {
    "slideshow": {
     "slide_type": "fragment"
    }
   },
   "source": [
    "6. Don't stack assignments into one statement"
   ]
  },
  {
   "cell_type": "raw",
   "metadata": {
    "slideshow": {
     "slide_type": "fragment"
    }
   },
   "source": [
    "int x = 2;\n",
    "int y = 2;\n",
    "int z = 2;"
   ]
  },
  {
   "cell_type": "markdown",
   "metadata": {
    "slideshow": {
     "slide_type": "fragment"
    }
   },
   "source": [
    "7. Don't use spaces between the final character in a statement and a semicolon"
   ]
  },
  {
   "cell_type": "markdown",
   "metadata": {
    "slideshow": {
     "slide_type": "fragment"
    }
   },
   "source": [
    "8. Don't begin or end floats/doubles with decimals"
   ]
  },
  {
   "cell_type": "raw",
   "metadata": {
    "slideshow": {
     "slide_type": "fragment"
    }
   },
   "source": [
    "double var = 2.0;"
   ]
  },
  {
   "cell_type": "markdown",
   "metadata": {
    "slideshow": {
     "slide_type": "fragment"
    }
   },
   "source": [
    "9. Capitalize E in scientific notation"
   ]
  },
  {
   "cell_type": "raw",
   "metadata": {
    "slideshow": {
     "slide_type": "fragment"
    }
   },
   "source": [
    "double var = 6.0E3;"
   ]
  },
  {
   "cell_type": "markdown",
   "metadata": {
    "slideshow": {
     "slide_type": "fragment"
    }
   },
   "source": [
    "10. Use symbolic values instead of hard-coded values (i.e. in enumerations)"
   ]
  },
  {
   "cell_type": "raw",
   "metadata": {
    "slideshow": {
     "slide_type": "fragment"
    }
   },
   "source": [
    "int students = 23;\n",
    "for (int i = 0; i < students; i++)\n",
    "{\n",
    "  ...\n",
    "}"
   ]
  },
  {
   "cell_type": "markdown",
   "metadata": {
    "slideshow": {
     "slide_type": "fragment"
    }
   },
   "source": [
    "11. When statements require multiple lines, place the operators at the end of each line"
   ]
  },
  {
   "cell_type": "markdown",
   "metadata": {
    "slideshow": {
     "slide_type": "fragment"
    }
   },
   "source": [
    "int var = (long_var_name1 + long_var_name2) *\n",
    "          long_var_name3;"
   ]
  },
  {
   "cell_type": "markdown",
   "metadata": {
    "slideshow": {
     "slide_type": "fragment"
    }
   },
   "source": [
    "12. All unit conversions should use constants defined in \"Constants.hpp\"\n",
    "    1. If you need to use a conversion not included in Constants.hpp, add a commend indicating the reason"
   ]
  },
  {
   "cell_type": "raw",
   "metadata": {
    "slideshow": {
     "slide_type": "fragment"
    }
   },
   "source": [
    "int var = absurdly_long_obj_name->\n",
    "          equally_long_access_name;"
   ]
  },
  {
   "cell_type": "markdown",
   "metadata": {
    "slideshow": {
     "slide_type": "slide"
    }
   },
   "source": [
    "### Control statements"
   ]
  },
  {
   "cell_type": "markdown",
   "metadata": {
    "slideshow": {
     "slide_type": "fragment"
    }
   },
   "source": [
    "1. Braces places in same column\n",
    "2. Control primitives (if, else, while, etc.) are always followed by a block"
   ]
  },
  {
   "cell_type": "raw",
   "metadata": {
    "slideshow": {
     "slide_type": "fragment"
    }
   },
   "source": [
    "if (...)\n",
    "{\n",
    "  ...\n",
    "}\n",
    "else if (...)\n",
    "{\n",
    "  ...\n",
    "}\n",
    "else\n",
    "{\n",
    "  ...\n",
    "}"
   ]
  },
  {
   "cell_type": "markdown",
   "metadata": {
    "slideshow": {
     "slide_type": "fragment"
    }
   },
   "source": [
    "for (...; ...; ...)\n",
    "{\n",
    "  ...\n",
    "}"
   ]
  },
  {
   "cell_type": "raw",
   "metadata": {
    "slideshow": {
     "slide_type": "fragment"
    }
   },
   "source": [
    "do\n",
    "{\n",
    "  ...\n",
    "}\n",
    "while (...);"
   ]
  },
  {
   "cell_type": "raw",
   "metadata": {
    "slideshow": {
     "slide_type": "fragment"
    }
   },
   "source": [
    "while (...)\n",
    "{\n",
    "  ...\n",
    "}"
   ]
  },
  {
   "cell_type": "markdown",
   "metadata": {
    "slideshow": {
     "slide_type": "fragment"
    }
   },
   "source": [
    "3. Switch statements:\n",
    "    1. All cases should be followed by a break unless that case is sharing code with other cases\n",
    "    2. Switch statements always need a default case to handle unexpected conditions\n",
    "    3. Enumerative cases should account for all values\n",
    "4. Use break to exit iterative statements only if it removes the need for an exit flag"
   ]
  },
  {
   "cell_type": "markdown",
   "metadata": {
    "slideshow": {
     "slide_type": "fragment"
    }
   },
   "source": [
    "switch (...)\n",
    "{\n",
    "  case 1:\n",
    "    ...\n",
    "    break;\n",
    "  case 2:\n",
    "    ...\n",
    "    break;\n",
    "  default:\n",
    "    ...\n",
    "    break;\n",
    "}"
   ]
  },
  {
   "cell_type": "markdown",
   "metadata": {
    "slideshow": {
     "slide_type": "fragment"
    }
   },
   "source": [
    "5. Do not use goto statements"
   ]
  },
  {
   "cell_type": "markdown",
   "metadata": {
    "slideshow": {
     "slide_type": "fragment"
    }
   },
   "source": [
    "6. Endless loops should be written as while (true), not for (;;) or while (1)"
   ]
  },
  {
   "cell_type": "raw",
   "metadata": {
    "slideshow": {
     "slide_type": "fragment"
    }
   },
   "source": [
    "while (True)\n",
    "{\n",
    "  ...\n",
    "}"
   ]
  },
  {
   "cell_type": "markdown",
   "metadata": {
    "slideshow": {
     "slide_type": "slide"
    }
   },
   "source": [
    "### Warnings/Errors"
   ]
  },
  {
   "cell_type": "markdown",
   "metadata": {
    "slideshow": {
     "slide_type": "fragment"
    }
   },
   "source": [
    "The general structure of warning messages is as follows:"
   ]
  },
  {
   "cell_type": "raw",
   "metadata": {
    "slideshow": {
     "slide_type": "fragment"
    }
   },
   "source": [
    "WARNING! or ERROR!\n",
    "LOCATION: Function name (and class if appropriate)\n",
    "DESCRIPTION: ..."
   ]
  },
  {
   "cell_type": "markdown",
   "metadata": {},
   "source": [
    "**edit here, 5.7**\n",
    "The TerminalIO class (within LaSRS++ Toolbox) contains applicationWarning() and applicationError() which take in:\n",
    "1. A string argument w/ the function name\n",
    "2. A string argument containing a description of the warning/error"
   ]
  },
  {
   "cell_type": "markdown",
   "metadata": {
    "slideshow": {
     "slide_type": "slide"
    }
   },
   "source": [
    "### Classes"
   ]
  },
  {
   "cell_type": "markdown",
   "metadata": {
    "slideshow": {
     "slide_type": "fragment"
    }
   },
   "source": [
    "1. Do not declare any public or protected member data in classes"
   ]
  },
  {
   "cell_type": "raw",
   "metadata": {
    "slideshow": {
     "slide_type": "fragment"
    }
   },
   "source": [
    "class Test\n",
    "{\n",
    "  private:\n",
    "    int mem;\n",
    "};"
   ]
  },
  {
   "cell_type": "markdown",
   "metadata": {
    "slideshow": {
     "slide_type": "fragment"
    }
   },
   "source": [
    "2. Every class w/ member data should contain a constructor\n",
    "3. Accessor member functions may return intrinsic types by reference or by value. All other types must be returned by reference."
   ]
  },
  {
   "cell_type": "raw",
   "metadata": {
    "slideshow": {
     "slide_type": "fragment"
    }
   },
   "source": [
    "class Test\n",
    "{\n",
    "  private:\n",
    "    int mem;\n",
    "    \n",
    "  public:\n",
    "    Test()\n",
    "    {\n",
    "      mem = 2;\n",
    "    }\n",
    " \n",
    "    int getVal()\n",
    "    {\n",
    "      return mem;\n",
    "    } \n",
    "};"
   ]
  },
  {
   "cell_type": "markdown",
   "metadata": {
    "slideshow": {
     "slide_type": "fragment"
    }
   },
   "source": [
    "4. An initialize() member function should be declared, both for first time initialization and reinitialization\n",
    "5. Mutator member functions shall have a return type of void; i.e., they do not return a value."
   ]
  },
  {
   "cell_type": "raw",
   "metadata": {
    "slideshow": {
     "slide_type": "fragment"
    }
   },
   "source": [
    "class Test\n",
    "{\n",
    "  private:\n",
    "    int mem;\n",
    "    \n",
    "  public:\n",
    "    Test()\n",
    "    {\n",
    "      mem = 2;\n",
    "    }\n",
    "    \n",
    "    int getVal()\n",
    "    {\n",
    "      return mem;\n",
    "    } \n",
    "    \n",
    "    void initialize()\n",
    "    {\n",
    "      mem = 2;\n",
    "    }\n",
    "};"
   ]
  },
  {
   "cell_type": "markdown",
   "metadata": {
    "slideshow": {
     "slide_type": "fragment"
    }
   },
   "source": [
    "6. For any class that dynamically allocates sizeory, the following should be declared:\n",
    "    1. Destructor\n",
    "    2. Copy constructor\n",
    "    3. Assignment operator"
   ]
  },
  {
   "cell_type": "markdown",
   "metadata": {
    "slideshow": {
     "slide_type": "fragment"
    }
   },
   "source": [
    "7. If a class defines a new object, then it must also delete"
   ]
  },
  {
   "cell_type": "markdown",
   "metadata": {},
   "source": [
    "8. A user-defined assignment operator shall:\n",
    "    1. return a reference to *this\n",
    "    2. assign to all data members\n",
    "    3. check for an assignment to self"
   ]
  },
  {
   "cell_type": "raw",
   "metadata": {
    "slideshow": {
     "slide_type": "fragment"
    }
   },
   "source": [
    "class Test\n",
    "{\n",
    "  private:\n",
    "    int mem;\n",
    "    int size;\n",
    "    int *arr;\n",
    "    \n",
    "  public:\n",
    "    Test()\n",
    "    {\n",
    "      mem = 2;\n",
    "      size = ARR_SIZE;\n",
    "      arr = new int[size];\n",
    "    }\n",
    "\n",
    "    Test(const Test &t1) \n",
    "    {\n",
    "      mem = t1.mem;\n",
    "      size = t1.size;\n",
    "      arr = new int[t1.size];\n",
    "    }\n",
    "\n",
    "    ~Test()\n",
    "    {\n",
    "      delete[] arr;\n",
    "    }\n",
    "    \n",
    "    Test& operator=(const Test &t2)\n",
    "    {\n",
    "        int *newarr = new int[t2.size];\n",
    "\n",
    "        for(int i = 0; i < t2.size; ++i)\n",
    "            newarr[i] = t2.arr[i]; \n",
    "\n",
    "        delete[] arr;\n",
    "        arr = newarr;\n",
    "        size = t2.size;\n",
    "\n",
    "        return *this;\n",
    "    }\n",
    "    \n",
    "    int getVal()\n",
    "    {\n",
    "      return mem;\n",
    "    } \n",
    "    \n",
    "    void initialize()\n",
    "    {\n",
    "      mem = 1;\n",
    "    }\n",
    "};"
   ]
  },
  {
   "cell_type": "markdown",
   "metadata": {},
   "source": [
    "8. Put class specific typedefs and enums within the class header. If they are designed to be used by other classes then place them in the public interface, otherwise place them in the private part of the class."
   ]
  },
  {
   "cell_type": "markdown",
   "metadata": {},
   "source": [
    "9. Inlined member functions that are not part of a class public/protected interface shall be placed in the appropriate *.cpp file."
   ]
  },
  {
   "cell_type": "markdown",
   "metadata": {},
   "source": [
    "10. Do not use this when referring to member objects"
   ]
  },
  {
   "cell_type": "markdown",
   "metadata": {},
   "source": [
    "11. Remember that default public implementations of the following will be generated, if needed, by the compiler:\n",
    "    1. default constructor\n",
    "    2. destructor (if derived from a class that has a destructor)\n",
    "    3. copy constructor\n",
    "    4. assignment operator\n",
    "    5. address-of operators (const and non-const)"
   ]
  },
  {
   "cell_type": "markdown",
   "metadata": {},
   "source": [
    "### Constructors"
   ]
  },
  {
   "cell_type": "markdown",
   "metadata": {},
   "source": [
    "1. Every member object in a class must be initialized in the constructor."
   ]
  },
  {
   "cell_type": "markdown",
   "metadata": {},
   "source": [
    "2. When initializing attributes of a class, prefer the member initialization list to assignment statements in constructors. In the member initialization list, initialize all member pointers to 0 or assign them to a constructor argument."
   ]
  },
  {
   "cell_type": "markdown",
   "metadata": {},
   "source": [
    "3. For the member initialization list, put the : on the line following the constructor name and argument list. The : shall be indented two spaces."
   ]
  },
  {
   "cell_type": "markdown",
   "metadata": {},
   "source": [
    "4. The use of inlined constructors is highly discouraged. If an inlined constructor is deemed necessary, it must be well documented. Remember that a constructor always invokes the constructors of its base classes and member data before executing its own code. This means that a constructor can potentially execute a large amount of code, making the constructor ineligible for inlining."
   ]
  },
  {
   "cell_type": "markdown",
   "metadata": {},
   "source": [
    "5. A single argument constructor specifies a conversion from the argument type to the type of its class. This type of constructor is known as a conversion constructor. The function-specifier explicit shall be used with conversion constructors. This allows the compiler to enforce that a conversion constructor will only be used where a constructor call is explicitly indicated by the syntax."
   ]
  },
  {
   "cell_type": "markdown",
   "metadata": {},
   "source": [
    "### Destructors"
   ]
  },
  {
   "cell_type": "markdown",
   "metadata": {},
   "source": [
    "1. Destructors in base classes that contain virtual functions shall be virtual."
   ]
  },
  {
   "cell_type": "markdown",
   "metadata": {},
   "source": [
    "2. The use of inlined destructors is highly discouraged. If an inlined destructor is deemed necessary, it must be well documented. As with constructors, destructors can potentially execute a large amount of code, making the destructor ineligible for inlining."
   ]
  },
  {
   "cell_type": "markdown",
   "metadata": {},
   "source": [
    "### Namespace"
   ]
  },
  {
   "cell_type": "markdown",
   "metadata": {},
   "source": [
    "1. All namespaces declared in a header file will be named."
   ]
  },
  {
   "cell_type": "markdown",
   "metadata": {},
   "source": [
    "2. The namespace declaration in the namespace's header file will only contain namespace elements intended as part of the namespace's external interface. Namespace elements intended for internal use will be included in a second namespace declaration in the namespace's implementation file."
   ]
  },
  {
   "cell_type": "markdown",
   "metadata": {},
   "source": [
    "3. Enumerations, constant variables, and functions should only appear in a namespace to make it easier to share them among classes that are not related through inheritance. Otherwise, the namespace members more appropriately belong in the common base class. Namespaces are not to be used as a substitution for classes although there is a very fine line between namespaces with functions and class utilities. Namespace functions may only work with static constants and function arguments. If a function requires mutable static data, then the function must be placed in a class utility."
   ]
  },
  {
   "cell_type": "markdown",
   "metadata": {},
   "source": [
    "4. Definitions of inline namespace functions shall appear immediately following the namespace declaration."
   ]
  },
  {
   "cell_type": "markdown",
   "metadata": {},
   "source": [
    "5. Only static constant integral variables may be defined inside a namespace declaration. All other constant variables must be defined in the implementation file."
   ]
  },
  {
   "cell_type": "markdown",
   "metadata": {},
   "source": [
    "6. All declarations in a namespace must have an appropriate inline comment unless the declaration conveys enough useful information. Units (properly abbreviated) shall be provided if the declaration is a dimensional constant."
   ]
  },
  {
   "cell_type": "markdown",
   "metadata": {},
   "source": [
    "7. It is recommended that a namespace be used to for Plain Old Data (POD) declarations outside of a class."
   ]
  },
  {
   "cell_type": "markdown",
   "metadata": {},
   "source": [
    "### Unsigned variables"
   ]
  },
  {
   "cell_type": "markdown",
   "metadata": {},
   "source": [
    "Do not attempt to ensure that an integral variable will be positive by declaring it to be unsigned. This will typically be defeated by the implicit conversion rules. Assigning a negative value to an unsigned variable is legal C++, although the compiler may issue a warning."
   ]
  },
  {
   "cell_type": "markdown",
   "metadata": {},
   "source": [
    "Unsigned variables should be used for loop counters that do not have negative values and for\n",
    "other positively valued data that undergoes simple, repeated arithmetic operations. Most\n",
    "compilers can better optimize unsigned arithmetic using bit shifts."
   ]
  },
  {
   "cell_type": "markdown",
   "metadata": {},
   "source": [
    "### Casting"
   ]
  },
  {
   "cell_type": "markdown",
   "metadata": {},
   "source": [
    "The use of casting is highly discouraged. If a cast is deemed necessary, one of the three cast\n",
    "operators: static_cast, reinterpret_cast, or const_cast, shall be used. This makes the intent of the cast explicit."
   ]
  },
  {
   "cell_type": "markdown",
   "metadata": {},
   "source": [
    "Only dynamic_cast may be used to downcast. All other forms of downcasting are\n",
    "disallowed. Downcasting is the casting of an object (or pointer or reference to an object) of a\n",
    "base class to an object (or pointer or reference to an object) of a derived class."
   ]
  },
  {
   "cell_type": "markdown",
   "metadata": {},
   "source": [
    "The return value resulting from a dynamic_cast of a pointer argument will always be tested\n",
    "for zero before it is dereferenced. If the value is zero, the cast failed."
   ]
  },
  {
   "cell_type": "markdown",
   "metadata": {},
   "source": [
    "A dynamic_cast of a reference argument throws a bad_cast exception if the cast fails. Code\n",
    "that applies a dynamic_cast to a reference must handle the exception."
   ]
  },
  {
   "cell_type": "markdown",
   "metadata": {},
   "source": [
    "The C++ standard requires that the argument of a dynamic_cast must be a pointer or\n",
    "reference to a polymorphic type (i.e., have virtual functions). Developers will not place a\n",
    "virtual method in a class for the sole reason to allow dynamic_cast of an object of that type.\n",
    "This is a sign of poor design."
   ]
  },
  {
   "cell_type": "markdown",
   "metadata": {},
   "source": [
    "### Typeid()"
   ]
  },
  {
   "cell_type": "markdown",
   "metadata": {},
   "source": [
    "Developers cannot assume the naming convention of names stored in the typeinfo returned\n",
    "by typeid(). Names generated for typeinfo are implementation dependent."
   ]
  },
  {
   "cell_type": "markdown",
   "metadata": {},
   "source": [
    "Use of dynamic_cast is preferred over typeid() for type identification."
   ]
  },
  {
   "cell_type": "markdown",
   "metadata": {},
   "source": [
    "### Functions"
   ]
  },
  {
   "cell_type": "markdown",
   "metadata": {},
   "source": [
    "Do not return a reference or a pointer to a local variable. Memory for local variables in a\n",
    "function is deallocated when the function returns."
   ]
  },
  {
   "cell_type": "markdown",
   "metadata": {},
   "source": [
    "Pass and return objects by reference instead of by value; however, do not try to return a\n",
    "reference when you must return an object."
   ]
  },
  {
   "cell_type": "markdown",
   "metadata": {},
   "source": [
    "### Incline functions"
   ]
  },
  {
   "cell_type": "markdown",
   "metadata": {},
   "source": [
    "Remember that declaring a function inline is just a hint to the compiler that the author wants\n",
    "the particular function to be inlined. Functions can be too complex for the compiler to\n",
    "successfully inline."
   ]
  },
  {
   "cell_type": "markdown",
   "metadata": {},
   "source": [
    "Accessor functions that simply return a class member shall be inline. [3] Accessor functions\n",
    "that become more complex than a simple return shall be reevaluated to see if they should\n",
    "remain inlined."
   ]
  },
  {
   "cell_type": "markdown",
   "metadata": {},
   "source": [
    "Mutator functions that consist of a single assignment statement shall be inline. [3] Mutator\n",
    "functions that become more complex than a simple assignment shall be reevaluated to see if\n",
    "they should remain inlined."
   ]
  },
  {
   "cell_type": "markdown",
   "metadata": {},
   "source": [
    "Forwarding functions (functions that do nothing more than call another function) shall be\n",
    "inline."
   ]
  },
  {
   "cell_type": "markdown",
   "metadata": {},
   "source": [
    "Virtual functions shall not be inlined."
   ]
  },
  {
   "cell_type": "markdown",
   "metadata": {},
   "source": [
    "Inline functions should not contain more than a half-dozen statements unless it can be\n",
    "demonstrated that inlining the function produces a meaningful and necessary performance\n",
    "benefit under normal use."
   ]
  },
  {
   "cell_type": "markdown",
   "metadata": {},
   "source": [
    "### Methods"
   ]
  },
  {
   "cell_type": "markdown",
   "metadata": {},
   "source": [
    "When taking the address of a method, the method name shall be scope qualified. The C++\n",
    "standard requires that a method be scope qualified when its address is taken, even if the\n",
    "address is taken within a different method of the class. For example:"
   ]
  },
  {
   "cell_type": "markdown",
   "metadata": {},
   "source": [
    "### Expressions"
   ]
  },
  {
   "cell_type": "markdown",
   "metadata": {},
   "source": [
    "Always test floating point numbers with &lt;= or &gt;=. Never perform a direct comparison of\n",
    "floating point numbers using == or !=. Such direct comparisons can be performed using the\n",
    "global function:"
   ]
  },
  {
   "cell_type": "markdown",
   "metadata": {},
   "source": [
    "Always check for a divide by zero if it is possible for a denominator to be 0."
   ]
  },
  {
   "cell_type": "markdown",
   "metadata": {},
   "source": [
    "Always verify that the argument to the sqrt() function is positive or limit the argument to\n",
    "zero or greater if it is possible for the argument to be negative."
   ]
  },
  {
   "cell_type": "markdown",
   "metadata": {},
   "source": [
    "Always verify that the argument to the acos() and asin() functions lie between [-1,1] or\n",
    "limit the argument to [-1,1] if it is possible for the argument to lie outside these limits."
   ]
  },
  {
   "cell_type": "markdown",
   "metadata": {},
   "source": [
    "5. Unless necessary for mathematical correctness, use floating point literals in expressions that\n",
    "are assigned to floating point variables. Also avoid integer sub-expressions in expressions\n",
    "assigned to floating point values by explicitly converting integer variables to double precision\n",
    "floating-point values. Otherwise, the result may not evaluate as expected. For example, 2/3 *\n",
    "10.0 = 0 not 6.666."
   ]
  },
  {
   "cell_type": "markdown",
   "metadata": {},
   "source": [
    "6. Always use std::fabs() to compute the absolute value of a floating point argument.\n",
    "Although C++ provides floating point signatures for std::abs(), C++ also makes it too easy\n",
    "for std::abs() to resolve to the integer signature instead of the floating point signature. The\n",
    "signatures for std::abs() are split across two header files. Integer signatures are found in\n",
    "&lt;cstdlib&gt;. Floating point signatures are found in &lt;cmath&gt;. Since &lt;cstdlib&gt; is commonly\n",
    "included in other system header files, there is a good chance that a call to std::abs() with a\n",
    "floating point argument will resolve to an integer std::abs() if the &lt;cmath&gt; header is\n",
    "missing. Not all compilers warn the developer when this occurs. std::fabs() will always\n",
    "resolve to a floating point signature or will generate a compile-time error if &lt;cmath&gt; is\n",
    "missing."
   ]
  },
  {
   "cell_type": "markdown",
   "metadata": {},
   "source": [
    "### Classes"
   ]
  },
  {
   "cell_type": "markdown",
   "metadata": {},
   "source": [
    "1. Constants and reference members must be initialized through the member initialization list;\n",
    "they cannot be initialized by assignment inside the constructor body. [9]"
   ]
  },
  {
   "cell_type": "markdown",
   "metadata": {},
   "source": [
    "2. Do not call destructors explicitly. Allow destructors to be called implicitly when the given\n",
    "object goes out of scope."
   ]
  },
  {
   "cell_type": "markdown",
   "metadata": {},
   "source": [
    "3. Remember that static class variables are accessible by all instances of a class. If the\n",
    "previous value of a variable is needed, explicitly save the past value in its own class scope\n",
    "non-static variable."
   ]
  },
  {
   "cell_type": "markdown",
   "metadata": {},
   "source": [
    "4. Remember that a virtual function called in a constructor (or) will be the one defined in the\n",
    "constructor&#39;s (or destructor&#39;s) own class or its bases, but not any function overriding it in a\n",
    "derived class. [9]\n",
    "Note: Virtual functions calls in a constructor shall be made explicit by qualifying the function\n",
    "call with the class name and scope resolution operator."
   ]
  },
  {
   "cell_type": "markdown",
   "metadata": {},
   "source": [
    "### Limiting namespace pollution"
   ]
  },
  {
   "cell_type": "markdown",
   "metadata": {},
   "source": [
    "One purpose of the namespace is to prevent name collisions, especially in large systems where the\n",
    "same name may appear in different contexts to represent different concepts. Unless the developer\n",
    "is careful, the developer can easily disable the protection that namespaces provide against name\n",
    "collision. Abuse of the “using namespace” directive in header files will quickly reduce namespace\n",
    "members to the equivalent of global scope; this dilution of the namespace scope is called\n",
    "“namespace pollution”. The following rules are partially based on Stoustrup&#39;s advice in Chapter\n",
    "8.2 of the C++ Programming Language:"
   ]
  },
  {
   "cell_type": "markdown",
   "metadata": {},
   "source": [
    "1. Avoid exposing an entire namespace with a using directive:\n",
    "using namespace a_namespace.\n"
   ]
  },
  {
   "cell_type": "markdown",
   "metadata": {},
   "source": [
    "2. Never deploy a using directive at file scope in a header file. That is,\n",
    "using namespace a_namespace\n",
    "is not allowed at file scope in header files."
   ]
  },
  {
   "cell_type": "markdown",
   "metadata": {},
   "source": [
    "3. Place using declarations local to the scope of their use:\n",
    "using a_namespace::namespace_member\n",
    "Using declarations can be placed nearly anywhere a typedef can be placed."
   ]
  },
  {
   "cell_type": "markdown",
   "metadata": {},
   "source": [
    "4. Deploy a using declaration at file scope in a header file only to expose namespace members\n",
    "that are necessary to interact with global functions that are declared in the header file or with\n",
    "the public or protected interface of the class that is declared in the header file:\n",
    "using a_namespace::namespace_member"
   ]
  },
  {
   "cell_type": "markdown",
   "metadata": {},
   "source": [
    "5. Namespace members that appear in the private section of a class or the internals of an inlined\n",
    "function will be identified using a scope qualifier or, for the function, a using declaration\n",
    "within the scope of the function."
   ]
  },
  {
   "cell_type": "markdown",
   "metadata": {},
   "source": [
    "### Iostreams"
   ]
  },
  {
   "cell_type": "markdown",
   "metadata": {},
   "source": [
    "Use iostreams instead of the I/O functions found in stdio.h (e.g. printf). Iostreams are type\n",
    "safe, type extensible, and significantly more powerful. [1] Note: This rule does not extend to\n",
    "stdio functions which format to internal memory (e.g. sprintf, snprintf, etc.)"
   ]
  },
  {
   "cell_type": "markdown",
   "metadata": {},
   "source": [
    "2. If formatting flags are altered, they shall be restored after the specific usage is complete.\n",
    "For example,\n"
   ]
  },
  {
   "cell_type": "markdown",
   "metadata": {},
   "source": [
    "3. Include &lt;iosfwd&gt; to forward declare iostreams types and only include &lt;iostream&gt; when the\n",
    "implementation is required."
   ]
  },
  {
   "cell_type": "markdown",
   "metadata": {},
   "source": [
    "### Const"
   ]
  },
  {
   "cell_type": "markdown",
   "metadata": {},
   "source": [
    "1. Constants are to be defined using the keyword const or with an enumeration type. [3]\n",
    "Note: an enumeration type should be used for a group of related constants."
   ]
  },
  {
   "cell_type": "markdown",
   "metadata": {},
   "source": [
    "2. Avoid having public member functions return a non-const reference or pointer to member\n",
    "data."
   ]
  },
  {
   "cell_type": "markdown",
   "metadata": {},
   "source": [
    "3. Use constant references (const &amp;) instead of call-by-value for arguments when the argument\n",
    "is not to be modified by the function. [3] [7]\n"
   ]
  },
  {
   "cell_type": "markdown",
   "metadata": {},
   "source": [
    "4. All member functions that do not alter the state of the object to which they refer shall be\n",
    "declared const; e.g., accessor functions. "
   ]
  },
  {
   "cell_type": "markdown",
   "metadata": {},
   "source": [
    "5. Remember that const member functions are the only member functions that can be invoked\n",
    "on a const object. [3]\n"
   ]
  },
  {
   "cell_type": "markdown",
   "metadata": {},
   "source": [
    "6. Use of const with pointers: [7]\n"
   ]
  },
  {
   "cell_type": "markdown",
   "metadata": {},
   "source": [
    "7. Use const wherever possible."
   ]
  },
  {
   "cell_type": "code",
   "execution_count": null,
   "metadata": {},
   "outputs": [],
   "source": []
  },
  {
   "cell_type": "code",
   "execution_count": null,
   "metadata": {},
   "outputs": [],
   "source": []
  },
  {
   "cell_type": "code",
   "execution_count": null,
   "metadata": {},
   "outputs": [],
   "source": []
  }
 ],
 "metadata": {
  "anaconda-cloud": {},
  "celltoolbar": "Slideshow",
  "kernelspec": {
   "display_name": "Python 3",
   "language": "python",
   "name": "python3"
  },
  "language_info": {
   "codemirror_mode": {
    "name": "ipython",
    "version": 3
   },
   "file_extension": ".py",
   "mimetype": "text/x-python",
   "name": "python",
   "nbconvert_exporter": "python",
   "pygments_lexer": "ipython3",
   "version": "3.8.2"
  }
 },
 "nbformat": 4,
 "nbformat_minor": 1
}
