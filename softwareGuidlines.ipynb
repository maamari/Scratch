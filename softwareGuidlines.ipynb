{
 "cells": [
  {
   "cell_type": "code",
   "execution_count": 1,
   "metadata": {
    "slideshow": {
     "slide_type": "skip"
    }
   },
   "outputs": [
    {
     "data": {
      "text/plain": [
       "{'width': 1400, 'height': 768, 'scroll': True}"
      ]
     },
     "execution_count": 1,
     "metadata": {},
     "output_type": "execute_result"
    }
   ],
   "source": [
    "from notebook.services.config import ConfigManager\n",
    "cm = ConfigManager()\n",
    "cm.update('livereveal', {\n",
    "        'width': 1400,\n",
    "        'height': 768,\n",
    "        'scroll': True,\n",
    "})"
   ]
  },
  {
   "cell_type": "markdown",
   "metadata": {
    "slideshow": {
     "slide_type": "slide"
    }
   },
   "source": [
    "# Sections 3.5 to 6.9"
   ]
  },
  {
   "cell_type": "markdown",
   "metadata": {
    "slideshow": {
     "slide_type": "fragment"
    }
   },
   "source": [
    "1. Spacing\n",
    "2. Expressions\n",
    "3. Control statements\n",
    "5. Functions\n",
    "6. Constructors\n",
    "7. Destructors\n",
    "8. Classes\n",
    "9. Structs\n",
    "10. Namespace\n",
    "11. Proprocessor directives\n",
    "13. Casting\n",
    "14. Iostreams\n",
    "15. Constants"
   ]
  },
  {
   "cell_type": "markdown",
   "metadata": {
    "slideshow": {
     "slide_type": "slide"
    }
   },
   "source": [
    "### Spacing"
   ]
  },
  {
   "cell_type": "markdown",
   "metadata": {
    "slideshow": {
     "slide_type": "fragment"
    }
   },
   "source": [
    "The standard indentation is _two_ spaces (do not use tabs)"
   ]
  },
  {
   "cell_type": "markdown",
   "metadata": {
    "slideshow": {
     "slide_type": "fragment"
    }
   },
   "source": [
    "Use one blank line between:\n",
    "1. Function definitions\n",
    "2. Groups of declarations (constructors, destructors, operators, etc.)\n",
    "3. Groups of related variables\n",
    "4. Groups of related objects/functions\n",
    "    "
   ]
  },
  {
   "cell_type": "raw",
   "metadata": {
    "slideshow": {
     "slide_type": "fragment"
    }
   },
   "source": [
    "double func1(int arg1)\n",
    "{\n",
    "  ...\n",
    "}\n",
    "\n",
    "int func2(double arg2)\n",
    "{\n",
    "  ...\n",
    "}\n",
    "\n",
    "int main()\n",
    "{\n",
    "  int var1 = 12;\n",
    "  double var2 = 9.2;\n",
    "  int var3 = 22;\n",
    "  \n",
    "  bool flag1 = False;\n",
    "  bool flag2 = False;\n",
    "  \n",
    "  ...\n",
    "}"
   ]
  },
  {
   "cell_type": "markdown",
   "metadata": {
    "slideshow": {
     "slide_type": "slide"
    }
   },
   "source": [
    "### Expressions"
   ]
  },
  {
   "cell_type": "markdown",
   "metadata": {
    "slideshow": {
     "slide_type": "fragment"
    }
   },
   "source": [
    "Parenthesize order of operations"
   ]
  },
  {
   "cell_type": "raw",
   "metadata": {
    "slideshow": {
     "slide_type": "fragment"
    }
   },
   "source": [
    "int main()\n",
    "{\n",
    "  return (2*(3+4));\n",
    "}"
   ]
  },
  {
   "cell_type": "markdown",
   "metadata": {
    "slideshow": {
     "slide_type": "fragment"
    }
   },
   "source": [
    "Access/dereference operator spacing"
   ]
  },
  {
   "cell_type": "raw",
   "metadata": {
    "slideshow": {
     "slide_type": "fragment"
    }
   },
   "source": [
    "obj.val = 1.0;\n",
    "obj->val = 1.0;"
   ]
  },
  {
   "cell_type": "markdown",
   "metadata": {
    "slideshow": {
     "slide_type": "fragment"
    }
   },
   "source": [
    "Unary operator/operand spacing"
   ]
  },
  {
   "cell_type": "raw",
   "metadata": {
    "slideshow": {
     "slide_type": "fragment"
    }
   },
   "source": [
    "if (!debug)\n",
    "{\n",
    "  ...\n",
    "}"
   ]
  },
  {
   "cell_type": "markdown",
   "metadata": {
    "slideshow": {
     "slide_type": "fragment"
    }
   },
   "source": [
    "Binary operator/operand spacing"
   ]
  },
  {
   "cell_type": "raw",
   "metadata": {
    "slideshow": {
     "slide_type": "fragment"
    }
   },
   "source": [
    "if (error && debug)\n",
    "{\n",
    "  ...\n",
    "}"
   ]
  },
  {
   "cell_type": "markdown",
   "metadata": {
    "slideshow": {
     "slide_type": "fragment"
    }
   },
   "source": [
    "Line up types, names, equal signs, and initial values"
   ]
  },
  {
   "cell_type": "raw",
   "metadata": {
    "slideshow": {
     "slide_type": "fragment"
    }
   },
   "source": [
    "int    var1          = 4;\n",
    "double var2          = 2.2;\n",
    "float  long_var_name = 3.1415;"
   ]
  },
  {
   "cell_type": "markdown",
   "metadata": {
    "slideshow": {
     "slide_type": "fragment"
    }
   },
   "source": [
    "Don't begin or end floats/doubles with decimals"
   ]
  },
  {
   "cell_type": "raw",
   "metadata": {
    "slideshow": {
     "slide_type": "fragment"
    }
   },
   "source": [
    "double var = .2;"
   ]
  },
  {
   "cell_type": "markdown",
   "metadata": {
    "slideshow": {
     "slide_type": "fragment"
    }
   },
   "source": [
    "Scientific notation"
   ]
  },
  {
   "cell_type": "raw",
   "metadata": {
    "slideshow": {
     "slide_type": "fragment"
    }
   },
   "source": [
    "double var = 6.0E-3;"
   ]
  },
  {
   "cell_type": "markdown",
   "metadata": {
    "slideshow": {
     "slide_type": "fragment"
    }
   },
   "source": [
    "Symbolic values"
   ]
  },
  {
   "cell_type": "raw",
   "metadata": {
    "slideshow": {
     "slide_type": "fragment"
    }
   },
   "source": [
    "int students = 23;\n",
    "for (unsigned int i = 0; i < students; ++i)\n",
    "{\n",
    "  ...\n",
    "}"
   ]
  },
  {
   "cell_type": "markdown",
   "metadata": {
    "slideshow": {
     "slide_type": "fragment"
    }
   },
   "source": [
    "Multi-line statements"
   ]
  },
  {
   "cell_type": "raw",
   "metadata": {
    "slideshow": {
     "slide_type": "fragment"
    }
   },
   "source": [
    "int var = long_var_name1 +\n",
    "          long_var_name2 +\n",
    "          long_var_name3;"
   ]
  },
  {
   "cell_type": "markdown",
   "metadata": {
    "slideshow": {
     "slide_type": "fragment"
    }
   },
   "source": [
    "Never perform a direct comparison of floating point numbers with == or !=\n",
    "\n",
    "Instead use direct comparisons with the global function, withinEpsilonOf()"
   ]
  },
  {
   "cell_type": "raw",
   "metadata": {
    "slideshow": {
     "slide_type": "fragment"
    }
   },
   "source": [
    "bool withinEpsilonOf(const double query_value,\n",
    "                     const double target_value,\n",
    "                     const double epsilon = 1.0E-12);"
   ]
  },
  {
   "cell_type": "markdown",
   "metadata": {
    "slideshow": {
     "slide_type": "fragment"
    }
   },
   "source": [
    "When working with floating point arguments, use std::fabs(), not std::abs()"
   ]
  },
  {
   "cell_type": "markdown",
   "metadata": {
    "slideshow": {
     "slide_type": "fragment"
    }
   },
   "source": [
    "All unit conversions should use constants defined in \"Constants.hpp\""
   ]
  },
  {
   "cell_type": "markdown",
   "metadata": {
    "slideshow": {
     "slide_type": "slide"
    }
   },
   "source": [
    "### Control statements"
   ]
  },
  {
   "cell_type": "markdown",
   "metadata": {
    "slideshow": {
     "slide_type": "fragment"
    }
   },
   "source": [
    "1. Braces places in same column\n",
    "2. Control primitives (if, else, while, etc.) are always followed by a block\n",
    "3. Use unsigned variables for loop counters when reasonable"
   ]
  },
  {
   "cell_type": "raw",
   "metadata": {
    "slideshow": {
     "slide_type": "fragment"
    }
   },
   "source": [
    "if (...)\n",
    "{\n",
    "  ...\n",
    "}\n",
    "else if (...)\n",
    "{\n",
    "  ...\n",
    "}\n",
    "else\n",
    "{\n",
    "  ...\n",
    "}"
   ]
  },
  {
   "cell_type": "raw",
   "metadata": {
    "slideshow": {
     "slide_type": "fragment"
    }
   },
   "source": [
    "for (unsigned int i = 10; i >= 0; i--)\n",
    "{\n",
    "  ...\n",
    "}"
   ]
  },
  {
   "cell_type": "markdown",
   "metadata": {
    "slideshow": {
     "slide_type": "fragment"
    }
   },
   "source": [
    "Switch statements:\n",
    "1. Follow each case with a break\n",
    "2. Add a default case to handle unexpected conditions\n",
    "3. Enumerative cases should account for all values"
   ]
  },
  {
   "cell_type": "raw",
   "metadata": {
    "slideshow": {
     "slide_type": "fragment"
    }
   },
   "source": [
    "switch (...)\n",
    "{\n",
    "  case 1:\n",
    "    ...\n",
    "    break;\n",
    "  case 2:\n",
    "    ...\n",
    "    break;\n",
    "  default:\n",
    "    ...\n",
    "    break;\n",
    "}"
   ]
  },
  {
   "cell_type": "markdown",
   "metadata": {
    "slideshow": {
     "slide_type": "fragment"
    }
   },
   "source": [
    "Do not use goto statements"
   ]
  },
  {
   "cell_type": "markdown",
   "metadata": {
    "slideshow": {
     "slide_type": "slide"
    }
   },
   "source": [
    "### Functions"
   ]
  },
  {
   "cell_type": "markdown",
   "metadata": {
    "slideshow": {
     "slide_type": "fragment"
    }
   },
   "source": [
    "Always provide a return type, put the left parenthesis after function name, and place the first argument on the first line\n"
   ]
  },
  {
   "cell_type": "raw",
   "metadata": {
    "slideshow": {
     "slide_type": "fragment"
    }
   },
   "source": [
    "int FakeClass::func(int arg1);"
   ]
  },
  {
   "cell_type": "markdown",
   "metadata": {
    "slideshow": {
     "slide_type": "fragment"
    }
   },
   "source": [
    "If space permits, place all arguments on same line; otherwise, place each additional argument on new line with closing parenthesis directly after last argument"
   ]
  },
  {
   "cell_type": "raw",
   "metadata": {
    "slideshow": {
     "slide_type": "fragment"
    }
   },
   "source": [
    "int FakeClass::func(int    arg1,\n",
    "                    double arg2,\n",
    "                    bool   arg3);"
   ]
  },
  {
   "cell_type": "markdown",
   "metadata": {
    "slideshow": {
     "slide_type": "fragment"
    }
   },
   "source": [
    "The names of arguments should be the same both in the declaration and the definition"
   ]
  },
  {
   "cell_type": "raw",
   "metadata": {
    "slideshow": {
     "slide_type": "fragment"
    }
   },
   "source": [
    "double func(int arg1);\n",
    "\n",
    "double func(int arg1)\n",
    "{\n",
    "  ...\n",
    "}"
   ]
  },
  {
   "cell_type": "markdown",
   "metadata": {
    "slideshow": {
     "slide_type": "fragment"
    }
   },
   "source": [
    "The following should be inline:\n",
    "1. Accessor functions \n",
    "2. Mutator functions\n",
    "3. Forwarding functions\n",
    "\n",
    "Complex accessor/mutators need to be reevaluated to see whether they should be inlined or not"
   ]
  },
  {
   "cell_type": "markdown",
   "metadata": {
    "slideshow": {
     "slide_type": "slide"
    }
   },
   "source": [
    "### Constructors"
   ]
  },
  {
   "cell_type": "markdown",
   "metadata": {
    "slideshow": {
     "slide_type": "fragment"
    }
   },
   "source": [
    "Initialize all objects in the constructor\n",
    "\n",
    "When initializing, use an initialization list\n",
    "\n",
    "Initialize all member pointers to 0 or assign them to a constructor argument.\n",
    "\n",
    "Put the : on the line following the constructor name and argument list, indented by two spaces."
   ]
  },
  {
   "cell_type": "raw",
   "metadata": {
    "slideshow": {
     "slide_type": "fragment"
    }
   },
   "source": [
    "class Test\n",
    "{\n",
    "  private:\n",
    "    int mem;\n",
    "    ...\n",
    "    \n",
    "  public:\n",
    "    Test(int val)\n",
    "      :mem(val)\n",
    "    {\n",
    "    }\n",
    "\n",
    "    ...\n",
    "};"
   ]
  },
  {
   "cell_type": "markdown",
   "metadata": {
    "slideshow": {
     "slide_type": "fragment"
    }
   },
   "source": [
    "The function-specifier *explicit* is to be used with conversion constructors"
   ]
  },
  {
   "cell_type": "raw",
   "metadata": {
    "slideshow": {
     "slide_type": "fragment"
    }
   },
   "source": [
    "class Test\n",
    "{\n",
    "  private:\n",
    "    int mem;\n",
    "    \n",
    "  public:\n",
    "    explicit Test(int val)\n",
    "      :mem(val)\n",
    "    {\n",
    "    }\n",
    "\n",
    "    ...\n",
    "};"
   ]
  },
  {
   "cell_type": "markdown",
   "metadata": {
    "slideshow": {
     "slide_type": "slide"
    }
   },
   "source": [
    "### Destructors"
   ]
  },
  {
   "cell_type": "markdown",
   "metadata": {
    "slideshow": {
     "slide_type": "fragment"
    }
   },
   "source": [
    "Destructors in base classes that contain virtual functions shall be virtual."
   ]
  },
  {
   "cell_type": "raw",
   "metadata": {
    "slideshow": {
     "slide_type": "fragment"
    }
   },
   "source": [
    "class Base \n",
    "{\n",
    "  public:\n",
    "    ...\n",
    "    \n",
    "    virtual ~Base() \n",
    "    {\n",
    "      ... \n",
    "    }\n",
    "    \n",
    "    virtual void f()\n",
    "    {\n",
    "      ...\n",
    "    }\n",
    "};\n",
    "\n",
    "class Derived : public Base \n",
    "{\n",
    "  public:\n",
    "    ...\n",
    "    \n",
    "    void f() \n",
    "    {\n",
    "      ...\n",
    "    }\n",
    "};"
   ]
  },
  {
   "cell_type": "markdown",
   "metadata": {
    "slideshow": {
     "slide_type": "slide"
    }
   },
   "source": [
    "### Classes"
   ]
  },
  {
   "cell_type": "markdown",
   "metadata": {
    "slideshow": {
     "slide_type": "fragment"
    }
   },
   "source": [
    "Do not declare any public or protected member data in classes"
   ]
  },
  {
   "cell_type": "raw",
   "metadata": {
    "slideshow": {
     "slide_type": "fragment"
    }
   },
   "source": [
    "class Test\n",
    "{\n",
    "  private:\n",
    "    int mem;\n",
    "};"
   ]
  },
  {
   "cell_type": "markdown",
   "metadata": {
    "slideshow": {
     "slide_type": "fragment"
    }
   },
   "source": [
    "Every class w/ member data should contain a constructor"
   ]
  },
  {
   "cell_type": "raw",
   "metadata": {
    "slideshow": {
     "slide_type": "fragment"
    }
   },
   "source": [
    "class Test\n",
    "{\n",
    "  private:\n",
    "    int mem;\n",
    "    \n",
    "  public:\n",
    "    Test()\n",
    "    {\n",
    "      mem = 2;\n",
    "    }\n",
    " \n",
    "    int getVal()\n",
    "    {\n",
    "      return mem;\n",
    "    } \n",
    "};"
   ]
  },
  {
   "cell_type": "markdown",
   "metadata": {
    "slideshow": {
     "slide_type": "fragment"
    }
   },
   "source": [
    "An initialize() member function should be declared, both for first time initialization and reinitialization"
   ]
  },
  {
   "cell_type": "raw",
   "metadata": {
    "slideshow": {
     "slide_type": "fragment"
    }
   },
   "source": [
    "class Test\n",
    "{\n",
    "  private:\n",
    "    int mem;\n",
    "    \n",
    "  public:\n",
    "    Test()\n",
    "    {\n",
    "      mem = 2;\n",
    "    }\n",
    "    \n",
    "    int getVal()\n",
    "    {\n",
    "      return mem;\n",
    "    } \n",
    "    \n",
    "    void initialize()\n",
    "    {\n",
    "      mem = 2;\n",
    "    }\n",
    "};"
   ]
  },
  {
   "cell_type": "markdown",
   "metadata": {
    "slideshow": {
     "slide_type": "fragment"
    }
   },
   "source": [
    "For any class that dynamically allocates memory, the following should be declared:\n",
    "1. Destructor\n",
    "2. Copy constructor\n",
    "3. Assignment operator"
   ]
  },
  {
   "cell_type": "raw",
   "metadata": {
    "slideshow": {
     "slide_type": "fragment"
    }
   },
   "source": [
    "class Test\n",
    "{\n",
    "  private:\n",
    "    int mem;\n",
    "    int size;\n",
    "    int *arr;\n",
    "    \n",
    "  public:\n",
    "    Test()\n",
    "    {\n",
    "      mem = 2;\n",
    "      size = ARR_SIZE;\n",
    "      arr = new int[size];\n",
    "    }\n",
    "\n",
    "    Test(const Test &t1) \n",
    "    {\n",
    "      mem = t1.mem;\n",
    "      size = t1.size;\n",
    "      arr = new int[t1.size];\n",
    "    }\n",
    "\n",
    "    ~Test()\n",
    "    {\n",
    "      delete[] arr;\n",
    "    }\n",
    "    \n",
    "    Test& operator=(const Test &t2)\n",
    "    {\n",
    "      if(this != &t2)\n",
    "      {\n",
    "        int *newarr = new int[t2.size];\n",
    "\n",
    "        for(int i = 0; i < t2.size; ++i)\n",
    "            newarr[i] = t2.arr[i]; \n",
    "\n",
    "        delete[] arr;\n",
    "        arr = newarr;\n",
    "        size = t2.size;\n",
    "\n",
    "        return *this;\n",
    "      }\n",
    "    }\n",
    "    \n",
    "    int getVal()\n",
    "    {\n",
    "      return mem;\n",
    "    } \n",
    "    \n",
    "    void initialize()\n",
    "    {\n",
    "      mem = 1;\n",
    "    }\n",
    "};"
   ]
  },
  {
   "cell_type": "markdown",
   "metadata": {
    "slideshow": {
     "slide_type": "fragment"
    }
   },
   "source": [
    "A user-defined assignment operator shall:\n",
    "1. return a reference to *this\n",
    "2. assign to all data members\n",
    "3. check for an assignment to self"
   ]
  },
  {
   "cell_type": "markdown",
   "metadata": {
    "slideshow": {
     "slide_type": "slide"
    }
   },
   "source": [
    "### Structures"
   ]
  },
  {
   "cell_type": "markdown",
   "metadata": {
    "slideshow": {
     "slide_type": "fragment"
    }
   },
   "source": [
    "Structures can only hold: <br>\n",
    "1. Data\n",
    "2. Constructors\n",
    "3. Initializations\n",
    "4. Input stream functions\n",
    "5. displayToStream (?)"
   ]
  },
  {
   "cell_type": "raw",
   "metadata": {
    "slideshow": {
     "slide_type": "fragment"
    }
   },
   "source": [
    "struct exampleStruct{\n",
    "    int member1;\n",
    "    \n",
    "    exampleStruct(int val)\n",
    "    {\n",
    "      member1 = val;\n",
    "    }\n",
    "};"
   ]
  },
  {
   "cell_type": "markdown",
   "metadata": {
    "slideshow": {
     "slide_type": "slide"
    }
   },
   "source": [
    "### Namespace"
   ]
  },
  {
   "cell_type": "markdown",
   "metadata": {
    "slideshow": {
     "slide_type": "fragment"
    }
   },
   "source": [
    "All namespaces declared in a header file will be named."
   ]
  },
  {
   "cell_type": "raw",
   "metadata": {
    "slideshow": {
     "slide_type": "fragment"
    }
   },
   "source": [
    "// foobar.hpp file\n",
    "namespace foobar\n",
    "{\n",
    "  void Foo();\n",
    "  int Bar();\n",
    "}"
   ]
  },
  {
   "cell_type": "markdown",
   "metadata": {
    "slideshow": {
     "slide_type": "fragment"
    }
   },
   "source": [
    "The namespace's header file will only contain namespace elements intended as part of the namespace's external interface (?) "
   ]
  },
  {
   "cell_type": "markdown",
   "metadata": {
    "slideshow": {
     "slide_type": "fragment"
    }
   },
   "source": [
    "Namespace elements intended for internal use will be included in a second namespace declaration in the namespace's implementation file"
   ]
  },
  {
   "cell_type": "raw",
   "metadata": {
    "slideshow": {
     "slide_type": "fragment"
    }
   },
   "source": [
    "// foobar.cpp file\n",
    "\n",
    "#include \"foobar.hpp\"\n",
    "\n",
    "using foobar::Foo;\n",
    "using foobar::Bar;\n",
    "\n",
    "void foobar::Foo() \n",
    "{\n",
    "  ...\n",
    "}\n",
    "\n",
    "int foobar::Bar()\n",
    "{\n",
    "  ...\n",
    "}"
   ]
  },
  {
   "cell_type": "markdown",
   "metadata": {
    "slideshow": {
     "slide_type": "fragment"
    }
   },
   "source": [
    "The following can appear in a namespace:\n",
    "1. Enumerations\n",
    "2. Constant variables\n",
    "    1. Only static constant integral variables. Define all other constants in the implementation file.\n",
    "3. Functions "
   ]
  },
  {
   "cell_type": "raw",
   "metadata": {
    "slideshow": {
     "slide_type": "fragment"
    }
   },
   "source": [
    "// foobar.hpp file\n",
    "namespace foobar\n",
    "{\n",
    "  enum seasons\n",
    "  {   \n",
    "    spring, \n",
    "    summer, \n",
    "    autumn,\n",
    "    winter\n",
    "  };\n",
    "  \n",
    "  static const int var;\n",
    "  \n",
    "  void Foo();\n",
    "  int Bar();\n",
    "}"
   ]
  },
  {
   "cell_type": "markdown",
   "metadata": {
    "slideshow": {
     "slide_type": "fragment"
    }
   },
   "source": [
    "Definitions of inline namespace functions shall appear immediately following the namespace declaration."
   ]
  },
  {
   "cell_type": "raw",
   "metadata": {
    "slideshow": {
     "slide_type": "fragment"
    }
   },
   "source": [
    "namespace foobar\n",
    "{\n",
    "  inline void Foo()\n",
    "  {\n",
    "    ...\n",
    "  }\n",
    "\n",
    "  enum seasons\n",
    "  {   \n",
    "    spring, \n",
    "    summer, \n",
    "    autumn,\n",
    "    winter\n",
    "  };\n",
    "  \n",
    "  static const int var;\n",
    "  \n",
    "  int Bar();\n",
    "}    "
   ]
  },
  {
   "cell_type": "markdown",
   "metadata": {
    "slideshow": {
     "slide_type": "fragment"
    }
   },
   "source": [
    "All declarations in a namespace must have an appropriate inline comment"
   ]
  },
  {
   "cell_type": "raw",
   "metadata": {
    "slideshow": {
     "slide_type": "fragment"
    }
   },
   "source": [
    "namespace foobar\n",
    "{\n",
    "  inline void Foo()  //Lorem ipsum dolor\n",
    "  {\n",
    "    ...\n",
    "  }\n",
    "\n",
    "  enum seasons  // Donec quam felis\n",
    "  {   \n",
    "    spring, \n",
    "    summer, \n",
    "    autumn,\n",
    "    winter\n",
    "  };\n",
    "  \n",
    "  static const int var;  //  Etiam sit amet orci\n",
    "  \n",
    "  int Bar();  // Donec sodales sagittis\n",
    "}    "
   ]
  },
  {
   "cell_type": "markdown",
   "metadata": {
    "slideshow": {
     "slide_type": "fragment"
    }
   },
   "source": [
    "Abuse of “using namespace” will quickly reduce namespace members to the equivalent of global scope, effectively diluting the namespace scope."
   ]
  },
  {
   "cell_type": "markdown",
   "metadata": {
    "slideshow": {
     "slide_type": "fragment"
    }
   },
   "source": [
    "1. Avoid exposing an entire namespace with a using directive\n",
    "\n",
    "2. Never deploy a using directive at file scope in a header file (?)\n",
    "\n",
    "3. Place using declarations local to the scope of their use\n",
    "\n",
    "That is, use:"
   ]
  },
  {
   "cell_type": "raw",
   "metadata": {
    "slideshow": {
     "slide_type": "fragment"
    }
   },
   "source": [
    "using a_namespace::namespace_member"
   ]
  },
  {
   "cell_type": "markdown",
   "metadata": {
    "slideshow": {
     "slide_type": "fragment"
    }
   },
   "source": [
    "and not"
   ]
  },
  {
   "cell_type": "raw",
   "metadata": {
    "slideshow": {
     "slide_type": "fragment"
    }
   },
   "source": [
    "using namespace a_namespace"
   ]
  },
  {
   "cell_type": "markdown",
   "metadata": {
    "slideshow": {
     "slide_type": "slide"
    }
   },
   "source": [
    "### Preprocessor directives"
   ]
  },
  {
   "cell_type": "markdown",
   "metadata": {
    "slideshow": {
     "slide_type": "fragment"
    }
   },
   "source": [
    "Do not use macros"
   ]
  },
  {
   "cell_type": "raw",
   "metadata": {
    "slideshow": {
     "slide_type": "fragment"
    }
   },
   "source": [
    "#define MULT(x, y) x * y\n",
    "\n",
    "MULT(3,4) -> 12"
   ]
  },
  {
   "cell_type": "markdown",
   "metadata": {
    "slideshow": {
     "slide_type": "fragment"
    }
   },
   "source": [
    "Use inline functions instead"
   ]
  },
  {
   "cell_type": "raw",
   "metadata": {
    "slideshow": {
     "slide_type": "fragment"
    }
   },
   "source": [
    "inline int mult(int x, int y) \n",
    "{\n",
    "    return x*y; \n",
    "} \n",
    "\n",
    "mult(3,4) -> 12"
   ]
  },
  {
   "cell_type": "markdown",
   "metadata": {
    "slideshow": {
     "slide_type": "fragment"
    }
   },
   "source": [
    "Identifiers should be all uppercase, underscores separating words (e.g. BUFFER_SIZE)"
   ]
  },
  {
   "cell_type": "raw",
   "metadata": {
    "slideshow": {
     "slide_type": "fragment"
    }
   },
   "source": [
    "#directive INDENTIFIER"
   ]
  },
  {
   "cell_type": "markdown",
   "metadata": {
    "slideshow": {
     "slide_type": "fragment"
    }
   },
   "source": [
    "Conditional compilation directive:"
   ]
  },
  {
   "cell_type": "raw",
   "metadata": {
    "slideshow": {
     "slide_type": "fragment"
    }
   },
   "source": [
    "#if defined(TEST_BLOCK)\n",
    "    int x = 2;\n",
    "#else\n",
    "    int x = 3;\n",
    "#endif"
   ]
  },
  {
   "cell_type": "markdown",
   "metadata": {
    "slideshow": {
     "slide_type": "fragment"
    }
   },
   "source": [
    "When using conditional compilation directives, use:"
   ]
  },
  {
   "cell_type": "raw",
   "metadata": {
    "slideshow": {
     "slide_type": "fragment"
    }
   },
   "source": [
    "#if defined(identifier) \n",
    "#if !defined(identifier) "
   ]
  },
  {
   "cell_type": "markdown",
   "metadata": {
    "slideshow": {
     "slide_type": "fragment"
    }
   },
   "source": [
    "and not"
   ]
  },
  {
   "cell_type": "raw",
   "metadata": {
    "slideshow": {
     "slide_type": "fragment"
    }
   },
   "source": [
    "#ifdef identifier\n",
    "#ifndef identifier"
   ]
  },
  {
   "cell_type": "markdown",
   "metadata": {
    "slideshow": {
     "slide_type": "fragment"
    }
   },
   "source": [
    "Do not define identifiers in source code, rather via a compiler option. For example:"
   ]
  },
  {
   "cell_type": "raw",
   "metadata": {
    "slideshow": {
     "slide_type": "fragment"
    }
   },
   "source": [
    "gcc -D TEST_BLOCK file.c -o file\n"
   ]
  },
  {
   "cell_type": "markdown",
   "metadata": {
    "slideshow": {
     "slide_type": "slide"
    }
   },
   "source": [
    "### Casting"
   ]
  },
  {
   "cell_type": "markdown",
   "metadata": {
    "slideshow": {
     "slide_type": "fragment"
    }
   },
   "source": [
    "Casting is discouraged. If a cast is deemed necessary, one of the three cast operators: \n",
    "1. static_cast\n",
    "2. reinterpret_cast\n",
    "3. const_cast\n",
    "\n",
    "should be used"
   ]
  },
  {
   "cell_type": "markdown",
   "metadata": {
    "slideshow": {
     "slide_type": "fragment"
    }
   },
   "source": [
    "Downcasting is disallowed outside of dynamic_cast\n",
    "\n",
    "Always test the return value resulting from a dynamic_cast of a pointer argument\n",
    "\n",
    "A dynamic_cast will throw a bad_cast exception if the cast fails"
   ]
  },
  {
   "cell_type": "markdown",
   "metadata": {
    "slideshow": {
     "slide_type": "slide"
    }
   },
   "source": [
    "### Iostreams"
   ]
  },
  {
   "cell_type": "markdown",
   "metadata": {
    "slideshow": {
     "slide_type": "fragment"
    }
   },
   "source": [
    "Use iostreams instead of the I/O functions found in stdio.h"
   ]
  },
  {
   "cell_type": "markdown",
   "metadata": {
    "slideshow": {
     "slide_type": "slide"
    }
   },
   "source": [
    "### Const"
   ]
  },
  {
   "cell_type": "markdown",
   "metadata": {
    "slideshow": {
     "slide_type": "fragment"
    }
   },
   "source": [
    "Use consts wherever possible. Constants are to be defined using either:"
   ]
  },
  {
   "cell_type": "markdown",
   "metadata": {
    "slideshow": {
     "slide_type": "fragment"
    }
   },
   "source": [
    "1. The keyword const"
   ]
  },
  {
   "cell_type": "raw",
   "metadata": {
    "slideshow": {
     "slide_type": "fragment"
    }
   },
   "source": [
    "const inst constant_var = 1;"
   ]
  },
  {
   "cell_type": "markdown",
   "metadata": {
    "slideshow": {
     "slide_type": "fragment"
    }
   },
   "source": [
    "2. An enumeration type"
   ]
  },
  {
   "cell_type": "raw",
   "metadata": {
    "slideshow": {
     "slide_type": "fragment"
    }
   },
   "source": [
    "enum Colors\n",
    "{\n",
    "  RED = 1,\n",
    "  BLUE = 2,\n",
    "  GREEN = 3\n",
    "};"
   ]
  },
  {
   "cell_type": "markdown",
   "metadata": {
    "slideshow": {
     "slide_type": "fragment"
    }
   },
   "source": [
    "Any functions not altering the state of the object to which they refer shall be declared const\n",
    "\n",
    "Const member functions are the only member functions that can be invoked on a const object"
   ]
  },
  {
   "cell_type": "markdown",
   "metadata": {
    "slideshow": {
     "slide_type": "slide"
    }
   },
   "source": [
    "### Extra"
   ]
  },
  {
   "cell_type": "markdown",
   "metadata": {
    "slideshow": {
     "slide_type": "fragment"
    }
   },
   "source": [
    "No whitespace between the operator keyword and the operator symbol"
   ]
  },
  {
   "cell_type": "raw",
   "metadata": {
    "slideshow": {
     "slide_type": "fragment"
    }
   },
   "source": [
    "void operator ++(int) \n",
    "{\n",
    "  value+=100;\n",
    "}"
   ]
  },
  {
   "cell_type": "markdown",
   "metadata": {
    "slideshow": {
     "slide_type": "fragment"
    }
   },
   "source": [
    "If this causes a line to pass column 80:\n",
    "1. Place the inline keyword, function type, class scope qualifier on the preceding line\n",
    "2. Do not align argument names\n",
    "3. Start arguments on the line following the opening parenthesis\n",
    "   "
   ]
  },
  {
   "cell_type": "raw",
   "metadata": {
    "slideshow": {
     "slide_type": "fragment"
    }
   },
   "source": [
    "int FakeClass::\n",
    "func(\n",
    "  const double& absurdly_long_argument_name,\n",
    "  double arg2,\n",
    "  bool arg3*);"
   ]
  },
  {
   "cell_type": "markdown",
   "metadata": {
    "slideshow": {
     "slide_type": "fragment"
    }
   },
   "source": [
    "General checks for expressions:\n",
    "\n",
    "1. Check for division by zero\n",
    "2. Check that the argument of sqrt() is positive or zero\n",
    "3. Check that the argument of acos()/asin() sits between -1 and 1"
   ]
  },
  {
   "cell_type": "markdown",
   "metadata": {
    "slideshow": {
     "slide_type": "fragment"
    }
   },
   "source": [
    "We can use Emacs to format our code in the LaSRS++ style (see 3.6.4 for instructions)"
   ]
  },
  {
   "cell_type": "markdown",
   "metadata": {
    "slideshow": {
     "slide_type": "fragment"
    }
   },
   "source": [
    "The general structure of warning messages is as follows:"
   ]
  },
  {
   "cell_type": "raw",
   "metadata": {
    "slideshow": {
     "slide_type": "fragment"
    }
   },
   "source": [
    "WARNING! or ERROR!\n",
    "LOCATION: Function name (and class if appropriate)\n",
    "DESCRIPTION: ..."
   ]
  },
  {
   "cell_type": "markdown",
   "metadata": {
    "slideshow": {
     "slide_type": "fragment"
    }
   },
   "source": [
    "While *virtual functions* should not be inlined"
   ]
  },
  {
   "cell_type": "markdown",
   "metadata": {
    "slideshow": {
     "slide_type": "fragment"
    }
   },
   "source": [
    "Do not inline constructors or destructors"
   ]
  },
  {
   "cell_type": "markdown",
   "metadata": {
    "slideshow": {
     "slide_type": "fragment"
    }
   },
   "source": [
    "Functions with no arguments should have an empty argument list"
   ]
  },
  {
   "cell_type": "raw",
   "metadata": {
    "slideshow": {
     "slide_type": "fragment"
    }
   },
   "source": [
    "int FakeClass::func();"
   ]
  },
  {
   "cell_type": "markdown",
   "metadata": {
    "slideshow": {
     "slide_type": "fragment"
    }
   },
   "source": [
    "Do not use this when referring to member objects"
   ]
  },
  {
   "cell_type": "markdown",
   "metadata": {
    "slideshow": {
     "slide_type": "fragment"
    }
   },
   "source": [
    "Use dynamic_cast for identification."
   ]
  }
 ],
 "metadata": {
  "anaconda-cloud": {},
  "celltoolbar": "Slideshow",
  "kernelspec": {
   "display_name": "Python 3",
   "language": "python",
   "name": "python3"
  },
  "language_info": {
   "codemirror_mode": {
    "name": "ipython",
    "version": 3
   },
   "file_extension": ".py",
   "mimetype": "text/x-python",
   "name": "python",
   "nbconvert_exporter": "python",
   "pygments_lexer": "ipython3",
   "version": "3.8.2"
  }
 },
 "nbformat": 4,
 "nbformat_minor": 1
}
