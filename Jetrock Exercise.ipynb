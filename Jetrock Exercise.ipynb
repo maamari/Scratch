{
 "cells": [
  {
   "cell_type": "markdown",
   "metadata": {},
   "source": [
    "# Imports"
   ]
  },
  {
   "cell_type": "code",
   "execution_count": 1,
   "metadata": {},
   "outputs": [],
   "source": [
    "import pandas as pd\n",
    "import matplotlib.pyplot as plt\n",
    "import seaborn as sns\n",
    "import numpy as np\n",
    "import os\n",
    "import pandas as pd \n",
    "from multiprocessing import Pool\n",
    "from selenium import webdriver\n",
    "from tqdm import tqdm\n",
    "import matplotlib.lines as mlines\n",
    "import matplotlib.pyplot as plt\n",
    "import matplotlib.cm as cm\n",
    "import numpy as np\n",
    "from scipy.interpolate import make_interp_spline\n",
    "\n",
    "sns.set(font='Franklin Gothic Book',rc={'axes.axisbelow': False,'axes.edgecolor': 'lightgrey','axes.facecolor': 'None','axes.grid': False,'axes.labelcolor': 'dimgrey','axes.spines.right': False,'axes.spines.top': False,'figure.facecolor': 'white','lines.solid_capstyle': 'round','patch.edgecolor': 'w','patch.force_edgecolor': True,'text.color': 'dimgrey','xtick.bottom': False,'xtick.color': 'dimgrey','xtick.direction': 'out','xtick.top': False,'ytick.color': 'dimgrey','ytick.direction': 'out','ytick.left': False,'ytick.right': False})\n",
    "sns.set_context(\"notebook\", rc={\"font.size\":16,\"axes.titlesize\":20,\"axes.labelsize\":18})"
   ]
  },
  {
   "cell_type": "markdown",
   "metadata": {},
   "source": [
    "---"
   ]
  },
  {
   "cell_type": "markdown",
   "metadata": {},
   "source": [
    "# Parser"
   ]
  },
  {
   "cell_type": "markdown",
   "metadata": {},
   "source": [
    "#### \"Pure\" approach"
   ]
  },
  {
   "cell_type": "code",
   "execution_count": 2,
   "metadata": {},
   "outputs": [
    {
     "name": "stderr",
     "output_type": "stream",
     "text": [
      "/home/maamari/Documents/Other/Anaconda/lib/python3.7/site-packages/ipykernel_launcher.py:10: DeprecationWarning: find_elements_by_* commands are deprecated. Please use find_elements() instead\n",
      "  # Remove the CWD from sys.path while we load stuff.\n"
     ]
    }
   ],
   "source": [
    "# Assume browser to be chrome\n",
    "option = webdriver.ChromeOptions()\n",
    "option.add_argument('--headless')\n",
    "driver = webdriver.Chrome(options=option)\n",
    "\n",
    "# Navigate to ercot site with forecasts\n",
    "driver.get(\"https://www.ercot.com/mp/data-products/grid/forecasts?id=NP4-737-CD\")\n",
    "\n",
    "# Find all mentions of zip\n",
    "elem = driver.find_elements_by_xpath(\"//a[contains(text(),'zip')]\")\n",
    "\n",
    "# And append links to files accordingly\n",
    "links = []\n",
    "for link in elem:\n",
    "    links.append(link.get_attribute('href'))\n",
    "\n",
    "links = links[::2]"
   ]
  },
  {
   "cell_type": "code",
   "execution_count": 3,
   "metadata": {},
   "outputs": [
    {
     "data": {
      "text/plain": [
       "['https://www.ercot.com/misdownload/servlets/mirDownload?doclookupId=821796728',\n",
       " 'https://www.ercot.com/misdownload/servlets/mirDownload?doclookupId=821788645',\n",
       " 'https://www.ercot.com/misdownload/servlets/mirDownload?doclookupId=821782039',\n",
       " 'https://www.ercot.com/misdownload/servlets/mirDownload?doclookupId=821774973',\n",
       " 'https://www.ercot.com/misdownload/servlets/mirDownload?doclookupId=821766926',\n",
       " 'https://www.ercot.com/misdownload/servlets/mirDownload?doclookupId=821760306',\n",
       " 'https://www.ercot.com/misdownload/servlets/mirDownload?doclookupId=821749582',\n",
       " 'https://www.ercot.com/misdownload/servlets/mirDownload?doclookupId=821742993',\n",
       " 'https://www.ercot.com/misdownload/servlets/mirDownload?doclookupId=821735392',\n",
       " 'https://www.ercot.com/misdownload/servlets/mirDownload?doclookupId=821728020',\n",
       " 'https://www.ercot.com/misdownload/servlets/mirDownload?doclookupId=821718049',\n",
       " 'https://www.ercot.com/misdownload/servlets/mirDownload?doclookupId=821705700',\n",
       " 'https://www.ercot.com/misdownload/servlets/mirDownload?doclookupId=821694497',\n",
       " 'https://www.ercot.com/misdownload/servlets/mirDownload?doclookupId=821687527',\n",
       " 'https://www.ercot.com/misdownload/servlets/mirDownload?doclookupId=821678734',\n",
       " 'https://www.ercot.com/misdownload/servlets/mirDownload?doclookupId=821668674',\n",
       " 'https://www.ercot.com/misdownload/servlets/mirDownload?doclookupId=821662071',\n",
       " 'https://www.ercot.com/misdownload/servlets/mirDownload?doclookupId=821655410',\n",
       " 'https://www.ercot.com/misdownload/servlets/mirDownload?doclookupId=821648798',\n",
       " 'https://www.ercot.com/misdownload/servlets/mirDownload?doclookupId=821642020',\n",
       " 'https://www.ercot.com/misdownload/servlets/mirDownload?doclookupId=821634498',\n",
       " 'https://www.ercot.com/misdownload/servlets/mirDownload?doclookupId=821627077',\n",
       " 'https://www.ercot.com/misdownload/servlets/mirDownload?doclookupId=821620909',\n",
       " 'https://www.ercot.com/misdownload/servlets/mirDownload?doclookupId=821614313',\n",
       " 'https://www.ercot.com/misdownload/servlets/mirDownload?doclookupId=821607839',\n",
       " 'https://www.ercot.com/misdownload/servlets/mirDownload?doclookupId=821601404',\n",
       " 'https://www.ercot.com/misdownload/servlets/mirDownload?doclookupId=821594882',\n",
       " 'https://www.ercot.com/misdownload/servlets/mirDownload?doclookupId=821588162',\n",
       " 'https://www.ercot.com/misdownload/servlets/mirDownload?doclookupId=821581563',\n",
       " 'https://www.ercot.com/misdownload/servlets/mirDownload?doclookupId=821574519',\n",
       " 'https://www.ercot.com/misdownload/servlets/mirDownload?doclookupId=821565744',\n",
       " 'https://www.ercot.com/misdownload/servlets/mirDownload?doclookupId=821559511',\n",
       " 'https://www.ercot.com/misdownload/servlets/mirDownload?doclookupId=821552455',\n",
       " 'https://www.ercot.com/misdownload/servlets/mirDownload?doclookupId=821545509',\n",
       " 'https://www.ercot.com/misdownload/servlets/mirDownload?doclookupId=821538867',\n",
       " 'https://www.ercot.com/misdownload/servlets/mirDownload?doclookupId=821529195',\n",
       " 'https://www.ercot.com/misdownload/servlets/mirDownload?doclookupId=821518407',\n",
       " 'https://www.ercot.com/misdownload/servlets/mirDownload?doclookupId=821511634',\n",
       " 'https://www.ercot.com/misdownload/servlets/mirDownload?doclookupId=821503040',\n",
       " 'https://www.ercot.com/misdownload/servlets/mirDownload?doclookupId=821493282',\n",
       " 'https://www.ercot.com/misdownload/servlets/mirDownload?doclookupId=821486699',\n",
       " 'https://www.ercot.com/misdownload/servlets/mirDownload?doclookupId=821479993',\n",
       " 'https://www.ercot.com/misdownload/servlets/mirDownload?doclookupId=821473335',\n",
       " 'https://www.ercot.com/misdownload/servlets/mirDownload?doclookupId=821466665',\n",
       " 'https://www.ercot.com/misdownload/servlets/mirDownload?doclookupId=821459230',\n",
       " 'https://www.ercot.com/misdownload/servlets/mirDownload?doclookupId=821452186',\n",
       " 'https://www.ercot.com/misdownload/servlets/mirDownload?doclookupId=821445555',\n",
       " 'https://www.ercot.com/misdownload/servlets/mirDownload?doclookupId=821438973',\n",
       " 'https://www.ercot.com/misdownload/servlets/mirDownload?doclookupId=821432023',\n",
       " 'https://www.ercot.com/misdownload/servlets/mirDownload?doclookupId=821425859',\n",
       " 'https://www.ercot.com/misdownload/servlets/mirDownload?doclookupId=821417999',\n",
       " 'https://www.ercot.com/misdownload/servlets/mirDownload?doclookupId=821411113',\n",
       " 'https://www.ercot.com/misdownload/servlets/mirDownload?doclookupId=821404641',\n",
       " 'https://www.ercot.com/misdownload/servlets/mirDownload?doclookupId=821397685',\n",
       " 'https://www.ercot.com/misdownload/servlets/mirDownload?doclookupId=821388725',\n",
       " 'https://www.ercot.com/misdownload/servlets/mirDownload?doclookupId=821382359',\n",
       " 'https://www.ercot.com/misdownload/servlets/mirDownload?doclookupId=821375142',\n",
       " 'https://www.ercot.com/misdownload/servlets/mirDownload?doclookupId=821368373',\n",
       " 'https://www.ercot.com/misdownload/servlets/mirDownload?doclookupId=821361609',\n",
       " 'https://www.ercot.com/misdownload/servlets/mirDownload?doclookupId=821351834',\n",
       " 'https://www.ercot.com/misdownload/servlets/mirDownload?doclookupId=821342042',\n",
       " 'https://www.ercot.com/misdownload/servlets/mirDownload?doclookupId=821334810',\n",
       " 'https://www.ercot.com/misdownload/servlets/mirDownload?doclookupId=821326303',\n",
       " 'https://www.ercot.com/misdownload/servlets/mirDownload?doclookupId=821316552',\n",
       " 'https://www.ercot.com/misdownload/servlets/mirDownload?doclookupId=821309766',\n",
       " 'https://www.ercot.com/misdownload/servlets/mirDownload?doclookupId=821302982',\n",
       " 'https://www.ercot.com/misdownload/servlets/mirDownload?doclookupId=821296185',\n",
       " 'https://www.ercot.com/misdownload/servlets/mirDownload?doclookupId=821289475',\n",
       " 'https://www.ercot.com/misdownload/servlets/mirDownload?doclookupId=821281498',\n",
       " 'https://www.ercot.com/misdownload/servlets/mirDownload?doclookupId=821274654',\n",
       " 'https://www.ercot.com/misdownload/servlets/mirDownload?doclookupId=821267855',\n",
       " 'https://www.ercot.com/misdownload/servlets/mirDownload?doclookupId=821261037',\n",
       " 'https://www.ercot.com/misdownload/servlets/mirDownload?doclookupId=821254163',\n",
       " 'https://www.ercot.com/misdownload/servlets/mirDownload?doclookupId=821247616',\n",
       " 'https://www.ercot.com/misdownload/servlets/mirDownload?doclookupId=821240850',\n",
       " 'https://www.ercot.com/misdownload/servlets/mirDownload?doclookupId=821233665',\n",
       " 'https://www.ercot.com/misdownload/servlets/mirDownload?doclookupId=821226775',\n",
       " 'https://www.ercot.com/misdownload/servlets/mirDownload?doclookupId=821219084',\n",
       " 'https://www.ercot.com/misdownload/servlets/mirDownload?doclookupId=821209913',\n",
       " 'https://www.ercot.com/misdownload/servlets/mirDownload?doclookupId=821201849',\n",
       " 'https://www.ercot.com/misdownload/servlets/mirDownload?doclookupId=821194224',\n",
       " 'https://www.ercot.com/misdownload/servlets/mirDownload?doclookupId=821186824',\n",
       " 'https://www.ercot.com/misdownload/servlets/mirDownload?doclookupId=821178360',\n",
       " 'https://www.ercot.com/misdownload/servlets/mirDownload?doclookupId=821166681',\n",
       " 'https://www.ercot.com/misdownload/servlets/mirDownload?doclookupId=821155924',\n",
       " 'https://www.ercot.com/misdownload/servlets/mirDownload?doclookupId=821148031',\n",
       " 'https://www.ercot.com/misdownload/servlets/mirDownload?doclookupId=821138978',\n",
       " 'https://www.ercot.com/misdownload/servlets/mirDownload?doclookupId=821129617',\n",
       " 'https://www.ercot.com/misdownload/servlets/mirDownload?doclookupId=821122083',\n",
       " 'https://www.ercot.com/misdownload/servlets/mirDownload?doclookupId=821115359',\n",
       " 'https://www.ercot.com/misdownload/servlets/mirDownload?doclookupId=821108177',\n",
       " 'https://www.ercot.com/misdownload/servlets/mirDownload?doclookupId=821101464']"
      ]
     },
     "execution_count": 3,
     "metadata": {},
     "output_type": "execute_result"
    }
   ],
   "source": [
    "links"
   ]
  },
  {
   "cell_type": "code",
   "execution_count": 4,
   "metadata": {},
   "outputs": [],
   "source": [
    "for link in links:\n",
    "    # Get Feb 7\n",
    "    if '821735392' in link:\n",
    "        feb7data = pd.read_csv(link,compression='zip')\n",
    "    # Get Feb 6\n",
    "    elif '821634498' in link:\n",
    "        feb6data = pd.read_csv(link,compression='zip') \n",
    "    # Get Feb 5\n",
    "    elif '821459230' in link:\n",
    "        feb5data = pd.read_csv(link,compression='zip') \n",
    "    # Get Feb 4\n",
    "    elif '821281498' in link:\n",
    "        feb4data = pd.read_csv(link,compression='zip') "
   ]
  },
  {
   "cell_type": "markdown",
   "metadata": {},
   "source": [
    "#### Unnecessary, but an example of parallelization of data ingestion as per our conversation"
   ]
  },
  {
   "cell_type": "code",
   "execution_count": 5,
   "metadata": {},
   "outputs": [],
   "source": [
    "# Csv importer wrapped in a function that can be mapped for parallelization\n",
    "def read_csv(filename):\n",
    "    return pd.read_csv(filename,compression='zip')"
   ]
  },
  {
   "cell_type": "code",
   "execution_count": null,
   "metadata": {},
   "outputs": [],
   "source": [
    "%%timeit\n",
    "\n",
    "# Serial approach\n",
    "# Note the difference in speed between this and the parallelized below\n",
    "all_data_serial = pd.concat((pd.read_csv(f,compression='zip') for f in links))"
   ]
  },
  {
   "cell_type": "code",
   "execution_count": null,
   "metadata": {},
   "outputs": [],
   "source": [
    "%%timeit\n",
    "\n",
    "# Set up pool\n",
    "with Pool(processes=8) as pool: # 8 cores to be safe, on supercomp can run >100 cores\n",
    "\n",
    "    # Map the file names to df\n",
    "    df_list = pool.map(read_csv, links)\n",
    "\n",
    "    # Concat the dataframes to a single\n",
    "    all_data = pd.concat(df_list, ignore_index=True)"
   ]
  },
  {
   "cell_type": "markdown",
   "metadata": {},
   "source": [
    "---"
   ]
  },
  {
   "cell_type": "markdown",
   "metadata": {},
   "source": [
    "# Analysis"
   ]
  },
  {
   "cell_type": "markdown",
   "metadata": {},
   "source": [
    "## Figures"
   ]
  },
  {
   "cell_type": "code",
   "execution_count": null,
   "metadata": {},
   "outputs": [],
   "source": [
    "# Set up general array for hours in the day\n",
    "hour_end = feb7data[feb7data.DELIVERY_DATE=='02/06/2022']['HOUR_ENDING']\n",
    "\n",
    "# Separate the hours into smaller designations for interpolation\n",
    "hours = np.linspace(hour_end.min(), hour_end.max(), 900)"
   ]
  },
  {
   "cell_type": "code",
   "execution_count": null,
   "metadata": {},
   "outputs": [],
   "source": [
    "# Interpolation func, to be used below\n",
    "def spline(date, df):\n",
    "    stppf = make_interp_spline(hour_end, df[df.DELIVERY_DATE==date]['STPPF_SYSTEM_WIDE'], k=3)\n",
    "    actual = make_interp_spline(hour_end, df[df.DELIVERY_DATE==date]['ACTUAL_SYSTEM_WIDE'], k=3)\n",
    "    return stppf(hours), actual(hours)"
   ]
  },
  {
   "cell_type": "code",
   "execution_count": null,
   "metadata": {},
   "outputs": [],
   "source": [
    "# Set up figure and grid\n",
    "fig = plt.figure(figsize=(10,6), facecolor='#f7f7f7', dpi= 200)\n",
    "gs = fig.add_gridspec(2, 2, hspace=0, wspace=0)\n",
    "(ax1, ax2), (ax3, ax4) = gs.subplots(sharex='col', sharey='row')\n",
    "    \n",
    "#==================================== ACTUAL VS STPPF FOR 2/6 =============================================\n",
    "\n",
    "y1, y2 = spline('02/06/2022', feb7data)\n",
    "\n",
    "ax1.set_xlim(7,20)\n",
    "ax1.plot(hours, y1, c='black',linewidth=2)\n",
    "ax1.plot(hours, y2,c='gold',linewidth=2)\n",
    "ax1.fill_between(hours, y1, y2, where=[(y1[i]<y2[i]) for i in range(len(hours))], interpolate=True, color='green', alpha=0.5)\n",
    "ax1.fill_between(hours, y1, y2, where=[(y1[i]>y2[i]) for i in range(len(hours))], interpolate=True, color='red', alpha=0.5)\n",
    "ax1.text(17.5,8500,\"02/06/2022\",size=8)\n",
    "\n",
    "#===================================== ACTUAL VS STPPF FOR 2/5 =========================================\n",
    "\n",
    "y1, y2 = spline('02/05/2022', feb6data)\n",
    "\n",
    "ax2.set_xlim(7,20)\n",
    "ax2.plot(hours, y1, c='black',linewidth=2)\n",
    "ax2.plot(hours, y2,c='gold',linewidth=2)\n",
    "ax2.fill_between(hours, y1, y2, where=[(y1[i]<y2[i]) for i in range(len(hours))], interpolate=True, color='green', alpha=0.5)\n",
    "ax2.fill_between(hours, y1, y2, where=[(y1[i]>y2[i]) for i in range(len(hours))], interpolate=True, color='red', alpha=0.5)\n",
    "ax2.text(17.5,8500,\"02/05/2022\",size=8)\n",
    "\n",
    "#===================================== ACTUAL VS STPPF FOR 2/4 =======================================\n",
    "\n",
    "y1, y2 = spline('02/04/2022', feb5data)\n",
    "\n",
    "ax3.plot(hours, y1, c='black',linewidth=2)\n",
    "ax3.plot(hours, y2,c='gold',linewidth=2)\n",
    "ax3.fill_between(hours, y1, y2, where=[(y1[i]<y2[i]) for i in range(len(hours))], interpolate=True, color='green', alpha=0.5)\n",
    "ax3.fill_between(hours, y1, y2, where=[(y1[i]>y2[i]) for i in range(len(hours))], interpolate=True, color='red', alpha=0.5)\n",
    "ax3.text(17.5,7000,\"02/04/2022\",size=8)\n",
    "\n",
    "#===================================== ACTUAL VS STPPF FOR 2/3 ========================================\n",
    "\n",
    "y1, y2 = spline('02/03/2022', feb4data)\n",
    "\n",
    "ax4.plot(hours, y1, c='black',linewidth=2,label='STPPF')\n",
    "ax4.plot(hours, y2,c='gold',linewidth=2,label='Actual')\n",
    "ax4.fill_between(hours, y1, y2, where=[(y1[i]<y2[i]) for i in range(len(hours))], interpolate=True, color='green', alpha=0.5, label='Overperformance')\n",
    "ax4.fill_between(hours, y1, y2, where=[(y1[i]>y2[i]) for i in range(len(hours))], interpolate=True, color='red', alpha=0.5, label='Underperformance')\n",
    "ax4.legend(loc=2,frameon=False)\n",
    "ax4.text(17.5,7000,\"02/03/2022\",size=8)\n",
    "\n",
    "#======================================================================================================\n",
    "\n",
    "ax1.set_ylabel(\"MW\",labelpad=10)\n",
    "ax4.set_xlabel(\"Hours ended\",labelpad=10)\n",
    "plt.show()\n",
    "plt.tight_layout()\n",
    "fig.savefig('actual_stppf.png')"
   ]
  },
  {
   "cell_type": "code",
   "execution_count": null,
   "metadata": {
    "scrolled": false
   },
   "outputs": [],
   "source": [
    "fig, ax = plt.subplots(1,1,figsize=(30,10), facecolor='#f7f7f7', dpi= 80)\n",
    "\n",
    "#================================ ACTUAL VS COP HSL FOR 2/6 =========================================\n",
    "\n",
    "plt.scatter(feb7data[feb7data.DELIVERY_DATE=='02/06/2022']['HOUR_ENDING'],\n",
    "            feb7data[feb7data.DELIVERY_DATE=='02/06/2022']['DELIVERY_DATE'],\n",
    "            s = feb7data[feb7data.DELIVERY_DATE=='02/06/2022']['COP_HSL_SYSTEM_WIDE'], c='blue',alpha=0.5,\n",
    "            label=\"COP HSL\")\n",
    "plt.scatter(feb7data[feb7data.DELIVERY_DATE=='02/06/2022']['HOUR_ENDING'],\n",
    "            feb7data[feb7data.DELIVERY_DATE=='02/06/2022']['DELIVERY_DATE'],\n",
    "            s = feb7data[feb7data.DELIVERY_DATE=='02/06/2022']['ACTUAL_SYSTEM_WIDE'], c='red',alpha=0.5,\n",
    "            label=\"Actual\")\n",
    "\n",
    "#================================  ACTUAL VS COP HSL FOR 2/5 ==========================================\n",
    "\n",
    "plt.scatter(feb6data[feb6data.DELIVERY_DATE=='02/05/2022']['HOUR_ENDING'],\n",
    "            feb6data[feb6data.DELIVERY_DATE=='02/05/2022']['DELIVERY_DATE'],\n",
    "            s = feb6data[feb6data.DELIVERY_DATE=='02/05/2022']['COP_HSL_SYSTEM_WIDE'], c='blue',alpha=0.5)\n",
    "plt.scatter(feb6data[feb6data.DELIVERY_DATE=='02/05/2022']['HOUR_ENDING'],\n",
    "            feb6data[feb6data.DELIVERY_DATE=='02/05/2022']['DELIVERY_DATE'],\n",
    "            s = feb6data[feb6data.DELIVERY_DATE=='02/05/2022']['ACTUAL_SYSTEM_WIDE'], c='red',alpha=0.5)\n",
    "\n",
    "#================================  ACTUAL VS COP HSL FOR 2/4 ===========================================\n",
    "\n",
    "plt.scatter(feb5data[feb5data.DELIVERY_DATE=='02/04/2022']['HOUR_ENDING'],\n",
    "            feb5data[feb5data.DELIVERY_DATE=='02/04/2022']['DELIVERY_DATE'],\n",
    "            s = feb5data[feb5data.DELIVERY_DATE=='02/04/2022']['COP_HSL_SYSTEM_WIDE'], c='blue',alpha=0.5)\n",
    "plt.scatter(feb5data[feb5data.DELIVERY_DATE=='02/04/2022']['HOUR_ENDING'],\n",
    "            feb5data[feb5data.DELIVERY_DATE=='02/04/2022']['DELIVERY_DATE'],\n",
    "            s = feb5data[feb5data.DELIVERY_DATE=='02/04/2022']['ACTUAL_SYSTEM_WIDE'], c='red',alpha=0.5)\n",
    "\n",
    "#================================  ACTUAL VS COP HSL FOR 2/3 ======================================\n",
    "\n",
    "plt.scatter(feb4data[feb4data.DELIVERY_DATE=='02/03/2022']['HOUR_ENDING'],\n",
    "            feb4data[feb4data.DELIVERY_DATE=='02/03/2022']['DELIVERY_DATE'],\n",
    "            s = feb4data[feb4data.DELIVERY_DATE=='02/03/2022']['COP_HSL_SYSTEM_WIDE'], c='blue',alpha=0.5)\n",
    "plt.scatter(feb4data[feb4data.DELIVERY_DATE=='02/03/2022']['HOUR_ENDING'],\n",
    "            feb4data[feb4data.DELIVERY_DATE=='02/03/2022']['DELIVERY_DATE'],\n",
    "            s = feb4data[feb4data.DELIVERY_DATE=='02/03/2022']['ACTUAL_SYSTEM_WIDE'], c='red',alpha=0.5)\n",
    "\n",
    "#======================================================================================================\n",
    "\n",
    "plt.xlabel(\"Hours ended\",size=35,labelpad=25)\n",
    "plt.ylabel(\"Date\",size=35,labelpad=25)\n",
    "plt.xticks(size=30)\n",
    "plt.yticks(size=25)\n",
    "plt.margins(x=0.1,y=0.25)\n",
    "plt.legend(loc=1,fontsize=20,frameon=False,borderpad=1, labelspacing=1)\n",
    "plt.xlim(7,21)\n",
    "plt.tight_layout()\n",
    "fig.savefig(\"actual_cop.png\",dpi=200)"
   ]
  },
  {
   "cell_type": "markdown",
   "metadata": {},
   "source": [
    "## Table"
   ]
  },
  {
   "cell_type": "code",
   "execution_count": null,
   "metadata": {},
   "outputs": [],
   "source": [
    "# Construct table containing data from Feb 3,4,5,6\n",
    "table = pd.DataFrame()\n",
    "table = pd.concat([table,\n",
    "                   feb7data[feb7data.DELIVERY_DATE=='02/06/2022'],\n",
    "                   feb6data[feb6data.DELIVERY_DATE=='02/05/2022'],\n",
    "                   feb5data[feb5data.DELIVERY_DATE=='02/04/2022'],\n",
    "                   feb4data[feb4data.DELIVERY_DATE=='02/03/2022']],\n",
    "                   ignore_index=True)"
   ]
  },
  {
   "cell_type": "code",
   "execution_count": null,
   "metadata": {},
   "outputs": [],
   "source": [
    "# Drop values not used in the above analysis\n",
    "table = table.drop('PVGRPP_SYSTEM_WIDE', 1)\n",
    "table = table.drop('DSTFlag', 1)"
   ]
  },
  {
   "cell_type": "code",
   "execution_count": null,
   "metadata": {},
   "outputs": [],
   "source": [
    "# Take rows from sunlight to sunset (roughly)\n",
    "table = table[(table.HOUR_ENDING > 6) & (table.HOUR_ENDING < 21)]"
   ]
  },
  {
   "cell_type": "code",
   "execution_count": null,
   "metadata": {},
   "outputs": [],
   "source": [
    "# Add percent production relative to COP HSL\n",
    "table['Actual/COP [%]'] = table['ACTUAL_SYSTEM_WIDE']/table['COP_HSL_SYSTEM_WIDE']*100"
   ]
  },
  {
   "cell_type": "code",
   "execution_count": null,
   "metadata": {},
   "outputs": [],
   "source": [
    "# Add percent production relative to STPPF\n",
    "table['Actual/STPPF [%]'] = table['ACTUAL_SYSTEM_WIDE']/table['STPPF_SYSTEM_WIDE']*100"
   ]
  },
  {
   "cell_type": "code",
   "execution_count": null,
   "metadata": {},
   "outputs": [],
   "source": [
    "# Clean up presentation of table\n",
    "table = table.rename(columns={\"ACTUAL_SYSTEM_WIDE\": \"Actual system wide [MW]\", \n",
    "                      \"COP_HSL_SYSTEM_WIDE\": \"COP HSL system wide [MW]\", \n",
    "                      \"STPPF_SYSTEM_WIDE\": \"STPPF system wide [MW]\",\n",
    "                      \"DELIVERY_DATE\": \"Delivery date\",\n",
    "                      \"HOUR_ENDING\": \"Hour ending\"})\n",
    "table = table.sort_values(by=['Delivery date','Hour ending']).reset_index(drop=True)"
   ]
  },
  {
   "cell_type": "code",
   "execution_count": null,
   "metadata": {},
   "outputs": [],
   "source": [
    "# Output to LaTeX for report\n",
    "with pd.option_context(\"max_colwidth\", 1000):\n",
    "  print(table.to_latex())"
   ]
  }
 ],
 "metadata": {
  "kernelspec": {
   "display_name": "Python 3",
   "language": "python",
   "name": "python3"
  },
  "language_info": {
   "codemirror_mode": {
    "name": "ipython",
    "version": 3
   },
   "file_extension": ".py",
   "mimetype": "text/x-python",
   "name": "python",
   "nbconvert_exporter": "python",
   "pygments_lexer": "ipython3",
   "version": "3.7.6"
  }
 },
 "nbformat": 4,
 "nbformat_minor": 4
}
